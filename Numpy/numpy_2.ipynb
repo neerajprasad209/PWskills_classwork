{
 "cells": [
  {
   "cell_type": "code",
   "execution_count": 1,
   "id": "31b59355-6681-4f01-bf78-5b5e0b87c22e",
   "metadata": {},
   "outputs": [],
   "source": [
    "#numpy araay manipulation"
   ]
  },
  {
   "cell_type": "code",
   "execution_count": 2,
   "id": "7d3bb4ea-c899-4ba9-a3f4-6dcead8bf8d0",
   "metadata": {},
   "outputs": [],
   "source": [
    "import numpy as np"
   ]
  },
  {
   "cell_type": "code",
   "execution_count": 3,
   "id": "17e574f1-c06f-42dd-857d-138b03b9f9b9",
   "metadata": {},
   "outputs": [],
   "source": [
    "arr = np.random.randint(1,10,(3,4))"
   ]
  },
  {
   "cell_type": "code",
   "execution_count": 4,
   "id": "c6bc5708-85ca-4381-8e95-97239afb5f18",
   "metadata": {},
   "outputs": [
    {
     "data": {
      "text/plain": [
       "array([[6, 7, 1, 2],\n",
       "       [8, 2, 7, 2],\n",
       "       [6, 5, 3, 8]])"
      ]
     },
     "execution_count": 4,
     "metadata": {},
     "output_type": "execute_result"
    }
   ],
   "source": [
    "arr"
   ]
  },
  {
   "cell_type": "code",
   "execution_count": 5,
   "id": "c2dd0473-7cb2-42b4-93f9-b12308a31889",
   "metadata": {},
   "outputs": [
    {
     "data": {
      "text/plain": [
       "array([[6, 7],\n",
       "       [1, 2],\n",
       "       [8, 2],\n",
       "       [7, 2],\n",
       "       [6, 5],\n",
       "       [3, 8]])"
      ]
     },
     "execution_count": 5,
     "metadata": {},
     "output_type": "execute_result"
    }
   ],
   "source": [
    "arr.reshape(6,2)"
   ]
  },
  {
   "cell_type": "code",
   "execution_count": 6,
   "id": "41376a78-cf1b-445f-9d86-3c42955fc143",
   "metadata": {},
   "outputs": [
    {
     "data": {
      "text/plain": [
       "array([[6, 7, 1, 2, 8, 2],\n",
       "       [7, 2, 6, 5, 3, 8]])"
      ]
     },
     "execution_count": 6,
     "metadata": {},
     "output_type": "execute_result"
    }
   ],
   "source": [
    "arr.reshape(2,6)"
   ]
  },
  {
   "cell_type": "code",
   "execution_count": 7,
   "id": "ce2c0ab8-f899-4a01-9fb0-ebfc1319292b",
   "metadata": {},
   "outputs": [
    {
     "data": {
      "text/plain": [
       "array([[6, 8, 6],\n",
       "       [7, 2, 5],\n",
       "       [1, 7, 3],\n",
       "       [2, 2, 8]])"
      ]
     },
     "execution_count": 7,
     "metadata": {},
     "output_type": "execute_result"
    }
   ],
   "source": [
    "arr.T"
   ]
  },
  {
   "cell_type": "code",
   "execution_count": 8,
   "id": "d221b66b-47b4-4f9b-8a36-07782d205613",
   "metadata": {},
   "outputs": [
    {
     "data": {
      "text/plain": [
       "array([6, 7, 1, 2, 8, 2, 7, 2, 6, 5, 3, 8])"
      ]
     },
     "execution_count": 8,
     "metadata": {},
     "output_type": "execute_result"
    }
   ],
   "source": [
    "arr.flatten()"
   ]
  },
  {
   "cell_type": "code",
   "execution_count": 9,
   "id": "f87de89e-8a00-4b17-bbc8-d78deb4b1e5a",
   "metadata": {},
   "outputs": [],
   "source": [
    "arr1 = np.array([1,2,3,4,5])"
   ]
  },
  {
   "cell_type": "code",
   "execution_count": 10,
   "id": "98e64c16-e809-4f7b-934f-4ac533b5895e",
   "metadata": {},
   "outputs": [
    {
     "data": {
      "text/plain": [
       "array([1, 2, 3, 4, 5])"
      ]
     },
     "execution_count": 10,
     "metadata": {},
     "output_type": "execute_result"
    }
   ],
   "source": [
    "arr1"
   ]
  },
  {
   "cell_type": "code",
   "execution_count": 11,
   "id": "028ff6ea-0b02-4e5d-8c92-edeaa30bb2d1",
   "metadata": {},
   "outputs": [
    {
     "data": {
      "text/plain": [
       "1"
      ]
     },
     "execution_count": 11,
     "metadata": {},
     "output_type": "execute_result"
    }
   ],
   "source": [
    "arr1.ndim"
   ]
  },
  {
   "cell_type": "code",
   "execution_count": 12,
   "id": "cde074b5-f01f-4991-a3af-9bb9b75e2a8a",
   "metadata": {},
   "outputs": [
    {
     "data": {
      "text/plain": [
       "array([[1],\n",
       "       [2],\n",
       "       [3],\n",
       "       [4],\n",
       "       [5]])"
      ]
     },
     "execution_count": 12,
     "metadata": {},
     "output_type": "execute_result"
    }
   ],
   "source": [
    "np.expand_dims(arr1,axis=1)"
   ]
  },
  {
   "cell_type": "code",
   "execution_count": 13,
   "id": "f3b59923-046c-4472-8df6-42ad7b17aef0",
   "metadata": {},
   "outputs": [
    {
     "data": {
      "text/plain": [
       "array([[1, 2, 3, 4, 5]])"
      ]
     },
     "execution_count": 13,
     "metadata": {},
     "output_type": "execute_result"
    }
   ],
   "source": [
    "np.expand_dims(arr1,axis=0)"
   ]
  },
  {
   "cell_type": "code",
   "execution_count": 14,
   "id": "d487e8a2-404c-4054-a3d7-c7e701cec2b9",
   "metadata": {},
   "outputs": [
    {
     "data": {
      "text/plain": [
       "array([[6, 7, 1, 2],\n",
       "       [8, 2, 7, 2],\n",
       "       [6, 5, 3, 8]])"
      ]
     },
     "execution_count": 14,
     "metadata": {},
     "output_type": "execute_result"
    }
   ],
   "source": [
    "arr"
   ]
  },
  {
   "cell_type": "code",
   "execution_count": 15,
   "id": "2bea892b-29d6-4a57-a11d-da4c7768a414",
   "metadata": {},
   "outputs": [
    {
     "data": {
      "text/plain": [
       "array([[6, 7, 1, 2],\n",
       "       [8, 2, 7, 2],\n",
       "       [6, 5, 3, 8]])"
      ]
     },
     "execution_count": 15,
     "metadata": {},
     "output_type": "execute_result"
    }
   ],
   "source": [
    "np.squeeze(arr)"
   ]
  },
  {
   "cell_type": "code",
   "execution_count": 16,
   "id": "889b7b01-9a62-41ca-8bc9-34b23d2722d5",
   "metadata": {},
   "outputs": [],
   "source": [
    "data = np.array([[1],[2],[3]])"
   ]
  },
  {
   "cell_type": "code",
   "execution_count": 17,
   "id": "ecf6c940-86d4-4592-bd3a-08b6cc6abbbf",
   "metadata": {},
   "outputs": [
    {
     "data": {
      "text/plain": [
       "array([[1],\n",
       "       [2],\n",
       "       [3]])"
      ]
     },
     "execution_count": 17,
     "metadata": {},
     "output_type": "execute_result"
    }
   ],
   "source": [
    "data"
   ]
  },
  {
   "cell_type": "code",
   "execution_count": 18,
   "id": "da37dd52-b764-4221-a238-b0de6d538313",
   "metadata": {},
   "outputs": [
    {
     "data": {
      "text/plain": [
       "array([1, 2, 3])"
      ]
     },
     "execution_count": 18,
     "metadata": {},
     "output_type": "execute_result"
    }
   ],
   "source": [
    "np.squeeze(data)"
   ]
  },
  {
   "cell_type": "code",
   "execution_count": 19,
   "id": "75392f98-3663-4375-b4fd-f636414ec6e1",
   "metadata": {},
   "outputs": [
    {
     "data": {
      "text/plain": [
       "array([1, 2, 3, 4, 5])"
      ]
     },
     "execution_count": 19,
     "metadata": {},
     "output_type": "execute_result"
    }
   ],
   "source": [
    "arr1"
   ]
  },
  {
   "cell_type": "code",
   "execution_count": 20,
   "id": "86aea369-07e6-41d1-9435-0e3e00af2104",
   "metadata": {},
   "outputs": [
    {
     "data": {
      "text/plain": [
       "array([6, 6, 6, 7, 7, 7, 1, 1, 1, 2, 2, 2, 8, 8, 8, 2, 2, 2, 7, 7, 7, 2,\n",
       "       2, 2, 6, 6, 6, 5, 5, 5, 3, 3, 3, 8, 8, 8])"
      ]
     },
     "execution_count": 20,
     "metadata": {},
     "output_type": "execute_result"
    }
   ],
   "source": [
    "np.repeat(arr,3)"
   ]
  },
  {
   "cell_type": "code",
   "execution_count": 21,
   "id": "ad990251-8830-4a29-a994-0ad7ba2c59de",
   "metadata": {},
   "outputs": [
    {
     "data": {
      "text/plain": [
       "array([4, 5, 1, 2, 3])"
      ]
     },
     "execution_count": 21,
     "metadata": {},
     "output_type": "execute_result"
    }
   ],
   "source": [
    "np.roll(arr1,shift=2)"
   ]
  },
  {
   "cell_type": "code",
   "execution_count": 22,
   "id": "ab92a7f4-8fbc-4fea-b85e-b9b3bd8bbb25",
   "metadata": {},
   "outputs": [
    {
     "data": {
      "text/plain": [
       "array([[1, 0, 0, 0, 0],\n",
       "       [0, 2, 0, 0, 0],\n",
       "       [0, 0, 3, 0, 0],\n",
       "       [0, 0, 0, 4, 0],\n",
       "       [0, 0, 0, 0, 5]])"
      ]
     },
     "execution_count": 22,
     "metadata": {},
     "output_type": "execute_result"
    }
   ],
   "source": [
    "np.diag(arr1)"
   ]
  },
  {
   "cell_type": "code",
   "execution_count": 45,
   "id": "4d2e5dc6-820a-4414-8eb8-2bca3cdb2acf",
   "metadata": {},
   "outputs": [],
   "source": [
    "arr1 = np.random.randint(1,10,(3,4))\n",
    "arr2 = np.random.randint(10,20,(3,4))"
   ]
  },
  {
   "cell_type": "code",
   "execution_count": 46,
   "id": "64511815-3584-4cfc-b9d8-c1e42a9d9cba",
   "metadata": {},
   "outputs": [
    {
     "data": {
      "text/plain": [
       "array([[12, 17, 11, 13],\n",
       "       [17, 19, 15, 19],\n",
       "       [10, 12, 11, 16]])"
      ]
     },
     "execution_count": 46,
     "metadata": {},
     "output_type": "execute_result"
    }
   ],
   "source": [
    "arr2"
   ]
  },
  {
   "cell_type": "code",
   "execution_count": 47,
   "id": "f2df4822-5778-492e-8235-7757981c39ab",
   "metadata": {},
   "outputs": [
    {
     "data": {
      "text/plain": [
       "array([[1, 4, 9, 8],\n",
       "       [6, 6, 4, 8],\n",
       "       [4, 8, 3, 9]])"
      ]
     },
     "execution_count": 47,
     "metadata": {},
     "output_type": "execute_result"
    }
   ],
   "source": [
    "arr1"
   ]
  },
  {
   "cell_type": "code",
   "execution_count": 48,
   "id": "58692cb6-5e3c-40ad-9771-15f3687f9975",
   "metadata": {},
   "outputs": [
    {
     "data": {
      "text/plain": [
       "array([[13, 21, 20, 21],\n",
       "       [23, 25, 19, 27],\n",
       "       [14, 20, 14, 25]])"
      ]
     },
     "execution_count": 48,
     "metadata": {},
     "output_type": "execute_result"
    }
   ],
   "source": [
    "arr1+arr2"
   ]
  },
  {
   "cell_type": "code",
   "execution_count": 49,
   "id": "7fb2f60d-35c4-49c5-8f0b-f9afba9019c7",
   "metadata": {},
   "outputs": [
    {
     "data": {
      "text/plain": [
       "array([[ 12,  68,  99, 104],\n",
       "       [102, 114,  60, 152],\n",
       "       [ 40,  96,  33, 144]])"
      ]
     },
     "execution_count": 49,
     "metadata": {},
     "output_type": "execute_result"
    }
   ],
   "source": [
    "arr1*arr2"
   ]
  },
  {
   "cell_type": "code",
   "execution_count": 50,
   "id": "3acf3274-be2c-4afc-85e1-e7a1da703694",
   "metadata": {},
   "outputs": [
    {
     "data": {
      "text/plain": [
       "array([[-11, -13,  -2,  -5],\n",
       "       [-11, -13, -11, -11],\n",
       "       [ -6,  -4,  -8,  -7]])"
      ]
     },
     "execution_count": 50,
     "metadata": {},
     "output_type": "execute_result"
    }
   ],
   "source": [
    "arr1-arr2"
   ]
  },
  {
   "cell_type": "code",
   "execution_count": 51,
   "id": "9ac00c73-3257-46c4-83e8-b32e8fd7a1f0",
   "metadata": {},
   "outputs": [
    {
     "data": {
      "text/plain": [
       "array([[0.08333333, 0.23529412, 0.81818182, 0.61538462],\n",
       "       [0.35294118, 0.31578947, 0.26666667, 0.42105263],\n",
       "       [0.4       , 0.66666667, 0.27272727, 0.5625    ]])"
      ]
     },
     "execution_count": 51,
     "metadata": {},
     "output_type": "execute_result"
    }
   ],
   "source": [
    "arr1/arr2"
   ]
  },
  {
   "cell_type": "code",
   "execution_count": 52,
   "id": "3141237f-5bea-40c6-abdd-70a6791d2671",
   "metadata": {},
   "outputs": [
    {
     "data": {
      "text/plain": [
       "array([[1, 4, 9, 8],\n",
       "       [6, 6, 4, 8],\n",
       "       [4, 8, 3, 9]])"
      ]
     },
     "execution_count": 52,
     "metadata": {},
     "output_type": "execute_result"
    }
   ],
   "source": [
    "arr1%arr2"
   ]
  },
  {
   "cell_type": "code",
   "execution_count": 53,
   "id": "1d22ca19-1c13-43f3-a4c3-dd9e011d5624",
   "metadata": {},
   "outputs": [
    {
     "data": {
      "text/plain": [
       "array([[0, 0, 9, 8],\n",
       "       [0, 2, 4, 0],\n",
       "       [0, 8, 3, 0]])"
      ]
     },
     "execution_count": 53,
     "metadata": {},
     "output_type": "execute_result"
    }
   ],
   "source": [
    "arr1 & arr2"
   ]
  },
  {
   "cell_type": "code",
   "execution_count": 54,
   "id": "ff6df3da-7182-4131-a69a-28f7d5744b17",
   "metadata": {},
   "outputs": [
    {
     "data": {
      "text/plain": [
       "array([[ -2,  -5, -10,  -9],\n",
       "       [ -7,  -7,  -5,  -9],\n",
       "       [ -5,  -9,  -4, -10]])"
      ]
     },
     "execution_count": 54,
     "metadata": {},
     "output_type": "execute_result"
    }
   ],
   "source": [
    "~arr1"
   ]
  },
  {
   "cell_type": "code",
   "execution_count": 55,
   "id": "b4152e30-3fd8-4363-80f9-a1a5f3f59e4f",
   "metadata": {},
   "outputs": [
    {
     "data": {
      "text/plain": [
       "array([[13, 21, 11, 13],\n",
       "       [23, 23, 15, 27],\n",
       "       [14, 12, 11, 25]])"
      ]
     },
     "execution_count": 55,
     "metadata": {},
     "output_type": "execute_result"
    }
   ],
   "source": [
    "arr1|arr2"
   ]
  },
  {
   "cell_type": "code",
   "execution_count": 56,
   "id": "4405f26f-8dc0-46c2-b8eb-5b46b478ca6c",
   "metadata": {},
   "outputs": [
    {
     "data": {
      "text/plain": [
       "array([[False, False, False, False],\n",
       "       [False, False, False, False],\n",
       "       [False, False, False, False]])"
      ]
     },
     "execution_count": 56,
     "metadata": {},
     "output_type": "execute_result"
    }
   ],
   "source": [
    "arr1==arr2"
   ]
  },
  {
   "cell_type": "code",
   "execution_count": 57,
   "id": "06c4e59e-78df-46f1-8026-f0c10d60bad6",
   "metadata": {},
   "outputs": [],
   "source": [
    "# numpy string functions"
   ]
  },
  {
   "cell_type": "code",
   "execution_count": 61,
   "id": "aecb4e39-5a48-4fe8-b2b8-26aab9e22446",
   "metadata": {},
   "outputs": [],
   "source": [
    "arr = np.array(['Neeraj', 'Prasad'])"
   ]
  },
  {
   "cell_type": "code",
   "execution_count": 62,
   "id": "4b1b27a9-2dec-4eb6-b625-41cc73847133",
   "metadata": {},
   "outputs": [
    {
     "data": {
      "text/plain": [
       "array(['Neeraj', 'Prasad'], dtype='<U6')"
      ]
     },
     "execution_count": 62,
     "metadata": {},
     "output_type": "execute_result"
    }
   ],
   "source": [
    "arr"
   ]
  },
  {
   "cell_type": "code",
   "execution_count": 64,
   "id": "79f94415-edd3-4323-987c-10a17b11fc77",
   "metadata": {},
   "outputs": [
    {
     "data": {
      "text/plain": [
       "array(['NEERAJ', 'PRASAD'], dtype='<U6')"
      ]
     },
     "execution_count": 64,
     "metadata": {},
     "output_type": "execute_result"
    }
   ],
   "source": [
    "np.char.upper(arr)"
   ]
  },
  {
   "cell_type": "code",
   "execution_count": 65,
   "id": "500842e8-9b1b-485a-8ccc-33d63109aec7",
   "metadata": {},
   "outputs": [
    {
     "data": {
      "text/plain": [
       "array(['Neeraj', 'Prasad'], dtype='<U6')"
      ]
     },
     "execution_count": 65,
     "metadata": {},
     "output_type": "execute_result"
    }
   ],
   "source": [
    "np.char.title(arr)"
   ]
  },
  {
   "cell_type": "code",
   "execution_count": 66,
   "id": "042a01b2-3663-4df5-8c24-fb1aae5e71e0",
   "metadata": {},
   "outputs": [
    {
     "data": {
      "text/plain": [
       "array(['Neeraj', 'Prasad'], dtype='<U6')"
      ]
     },
     "execution_count": 66,
     "metadata": {},
     "output_type": "execute_result"
    }
   ],
   "source": [
    "np.char.capitalize(arr)"
   ]
  },
  {
   "cell_type": "code",
   "execution_count": 67,
   "id": "7e8edcd4-7e1f-490e-a21c-ee11999081e2",
   "metadata": {},
   "outputs": [],
   "source": [
    "# numpy math functions"
   ]
  },
  {
   "cell_type": "code",
   "execution_count": 68,
   "id": "d0561729-cfd1-4906-9bc6-0c61ddcf2d2c",
   "metadata": {},
   "outputs": [
    {
     "data": {
      "text/plain": [
       "array([[1, 4, 9, 8],\n",
       "       [6, 6, 4, 8],\n",
       "       [4, 8, 3, 9]])"
      ]
     },
     "execution_count": 68,
     "metadata": {},
     "output_type": "execute_result"
    }
   ],
   "source": [
    "arr1"
   ]
  },
  {
   "cell_type": "code",
   "execution_count": 69,
   "id": "4ebaa06a-4316-493b-8c50-fcd08a12301c",
   "metadata": {},
   "outputs": [
    {
     "data": {
      "text/plain": [
       "array([[ 0.84147098, -0.7568025 ,  0.41211849,  0.98935825],\n",
       "       [-0.2794155 , -0.2794155 , -0.7568025 ,  0.98935825],\n",
       "       [-0.7568025 ,  0.98935825,  0.14112001,  0.41211849]])"
      ]
     },
     "execution_count": 69,
     "metadata": {},
     "output_type": "execute_result"
    }
   ],
   "source": [
    "np.sin(arr1)"
   ]
  },
  {
   "cell_type": "code",
   "execution_count": 70,
   "id": "b38fd193-13f4-4d8b-9ee2-daa7dea77176",
   "metadata": {},
   "outputs": [
    {
     "data": {
      "text/plain": [
       "array([[ 0.54030231, -0.65364362, -0.91113026, -0.14550003],\n",
       "       [ 0.96017029,  0.96017029, -0.65364362, -0.14550003],\n",
       "       [-0.65364362, -0.14550003, -0.9899925 , -0.91113026]])"
      ]
     },
     "execution_count": 70,
     "metadata": {},
     "output_type": "execute_result"
    }
   ],
   "source": [
    "np.cos(arr1)"
   ]
  },
  {
   "cell_type": "code",
   "execution_count": 71,
   "id": "9aad851a-0640-48b9-840b-12997849f903",
   "metadata": {},
   "outputs": [
    {
     "data": {
      "text/plain": [
       "array([[2.71828183e+00, 5.45981500e+01, 8.10308393e+03, 2.98095799e+03],\n",
       "       [4.03428793e+02, 4.03428793e+02, 5.45981500e+01, 2.98095799e+03],\n",
       "       [5.45981500e+01, 2.98095799e+03, 2.00855369e+01, 8.10308393e+03]])"
      ]
     },
     "execution_count": 71,
     "metadata": {},
     "output_type": "execute_result"
    }
   ],
   "source": [
    "np.exp(arr1)"
   ]
  },
  {
   "cell_type": "code",
   "execution_count": 73,
   "id": "bbb843c4-0645-4904-b58a-c27e9b935a5e",
   "metadata": {},
   "outputs": [
    {
     "data": {
      "text/plain": [
       "array([[ 1, 16, 81, 64],\n",
       "       [36, 36, 16, 64],\n",
       "       [16, 64,  9, 81]])"
      ]
     },
     "execution_count": 73,
     "metadata": {},
     "output_type": "execute_result"
    }
   ],
   "source": [
    "np.power(arr1,2)"
   ]
  },
  {
   "cell_type": "code",
   "execution_count": 74,
   "id": "1500012e-a1e6-4998-b6ba-790bb66d117a",
   "metadata": {},
   "outputs": [
    {
     "data": {
      "text/plain": [
       "array([[1.        , 2.        , 3.        , 2.82842712],\n",
       "       [2.44948974, 2.44948974, 2.        , 2.82842712],\n",
       "       [2.        , 2.82842712, 1.73205081, 3.        ]])"
      ]
     },
     "execution_count": 74,
     "metadata": {},
     "output_type": "execute_result"
    }
   ],
   "source": [
    "np.sqrt(arr1)"
   ]
  },
  {
   "cell_type": "code",
   "execution_count": 76,
   "id": "791ba3f9-d636-47ef-bad7-9145e1b21bf2",
   "metadata": {},
   "outputs": [
    {
     "data": {
      "text/plain": [
       "5.833333333333333"
      ]
     },
     "execution_count": 76,
     "metadata": {},
     "output_type": "execute_result"
    }
   ],
   "source": [
    "np.mean(arr1)"
   ]
  },
  {
   "cell_type": "code",
   "execution_count": 79,
   "id": "ce071ea0-2f8d-4d0d-8f0c-473746c18c8e",
   "metadata": {},
   "outputs": [
    {
     "data": {
      "text/plain": [
       "6.0"
      ]
     },
     "execution_count": 79,
     "metadata": {},
     "output_type": "execute_result"
    }
   ],
   "source": [
    "np.median(arr1)"
   ]
  },
  {
   "cell_type": "code",
   "execution_count": null,
   "id": "e19433e0-8474-4eaa-bcb5-eb6fca2ba4ad",
   "metadata": {},
   "outputs": [],
   "source": []
  }
 ],
 "metadata": {
  "kernelspec": {
   "display_name": "Python 3 (ipykernel)",
   "language": "python",
   "name": "python3"
  },
  "language_info": {
   "codemirror_mode": {
    "name": "ipython",
    "version": 3
   },
   "file_extension": ".py",
   "mimetype": "text/x-python",
   "name": "python",
   "nbconvert_exporter": "python",
   "pygments_lexer": "ipython3",
   "version": "3.10.8"
  }
 },
 "nbformat": 4,
 "nbformat_minor": 5
}
