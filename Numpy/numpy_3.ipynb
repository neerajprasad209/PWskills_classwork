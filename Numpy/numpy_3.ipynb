{
 "cells": [
  {
   "cell_type": "code",
   "execution_count": 1,
   "id": "5af4b4b1-116c-4c12-9602-52d951642220",
   "metadata": {},
   "outputs": [],
   "source": [
    "#sort search and counting function"
   ]
  },
  {
   "cell_type": "code",
   "execution_count": 2,
   "id": "11d24058-da29-4341-8e3f-0110e8f666e6",
   "metadata": {},
   "outputs": [],
   "source": [
    "import numpy as np"
   ]
  },
  {
   "cell_type": "code",
   "execution_count": 3,
   "id": "01ce87e4-8f9f-4aa7-ac6b-5d10abccb5f9",
   "metadata": {},
   "outputs": [],
   "source": [
    "arr = np.array([4,5,2,7,2,6,9,3,7,3,1,4,7,3,9,4,3,2,75,3,4,6,4,3])"
   ]
  },
  {
   "cell_type": "code",
   "execution_count": 4,
   "id": "08e542e8-7b1c-40e0-af4f-93da8c9564fd",
   "metadata": {},
   "outputs": [
    {
     "data": {
      "text/plain": [
       "array([ 1,  2,  2,  2,  3,  3,  3,  3,  3,  3,  4,  4,  4,  4,  4,  5,  6,\n",
       "        6,  7,  7,  7,  9,  9, 75])"
      ]
     },
     "execution_count": 4,
     "metadata": {},
     "output_type": "execute_result"
    }
   ],
   "source": [
    "np.sort(arr)"
   ]
  },
  {
   "cell_type": "code",
   "execution_count": 5,
   "id": "a77c61a6-0aef-4420-b63b-bc7f0c1dff51",
   "metadata": {},
   "outputs": [
    {
     "data": {
      "text/plain": [
       "18"
      ]
     },
     "execution_count": 5,
     "metadata": {},
     "output_type": "execute_result"
    }
   ],
   "source": [
    "np.searchsorted(arr,12)"
   ]
  },
  {
   "cell_type": "code",
   "execution_count": 6,
   "id": "f68a4965-91e1-44ed-8eca-dfe398d6fc3c",
   "metadata": {},
   "outputs": [],
   "source": [
    "arr1 = np.array([0,2,5,1,6,9,0,3,4,8,44,9,32,7,8,4,2,5])"
   ]
  },
  {
   "cell_type": "code",
   "execution_count": 7,
   "id": "c29ad34f-c327-4ecc-acb9-6607cc54edb9",
   "metadata": {},
   "outputs": [
    {
     "data": {
      "text/plain": [
       "16"
      ]
     },
     "execution_count": 7,
     "metadata": {},
     "output_type": "execute_result"
    }
   ],
   "source": [
    "np.count_nonzero(arr1)"
   ]
  },
  {
   "cell_type": "code",
   "execution_count": 8,
   "id": "baa00fd2-1319-4e72-a7d8-eaa774710224",
   "metadata": {},
   "outputs": [
    {
     "data": {
      "text/plain": [
       "array([ 4,  5,  2,  7,  2,  6,  9,  3,  7,  3,  1,  4,  7,  3,  9,  4,  3,\n",
       "        2, 75,  3,  4,  6,  4,  3])"
      ]
     },
     "execution_count": 8,
     "metadata": {},
     "output_type": "execute_result"
    }
   ],
   "source": [
    "arr"
   ]
  },
  {
   "cell_type": "code",
   "execution_count": 9,
   "id": "11ad6d56-79d5-4749-8be2-0d1c531353db",
   "metadata": {},
   "outputs": [
    {
     "data": {
      "text/plain": [
       "(array([ 3,  6,  8, 12, 14, 18]),)"
      ]
     },
     "execution_count": 9,
     "metadata": {},
     "output_type": "execute_result"
    }
   ],
   "source": [
    "np.where(arr>6)"
   ]
  },
  {
   "cell_type": "code",
   "execution_count": 11,
   "id": "52625b97-d19c-43fd-8ca1-c4a4971ef9cd",
   "metadata": {},
   "outputs": [
    {
     "data": {
      "text/plain": [
       "array([ 7,  9,  7,  7,  9, 75])"
      ]
     },
     "execution_count": 11,
     "metadata": {},
     "output_type": "execute_result"
    }
   ],
   "source": [
    "np.extract(arr>6,arr)"
   ]
  },
  {
   "cell_type": "code",
   "execution_count": 12,
   "id": "8f93708f-71fc-42ba-a4ac-168cabe762da",
   "metadata": {},
   "outputs": [],
   "source": [
    "# numpy byte swaping"
   ]
  },
  {
   "cell_type": "code",
   "execution_count": 13,
   "id": "64bfec21-5f43-4626-95b8-2613d90c0252",
   "metadata": {},
   "outputs": [
    {
     "data": {
      "text/plain": [
       "array([ 4,  5,  2,  7,  2,  6,  9,  3,  7,  3,  1,  4,  7,  3,  9,  4,  3,\n",
       "        2, 75,  3,  4,  6,  4,  3])"
      ]
     },
     "execution_count": 13,
     "metadata": {},
     "output_type": "execute_result"
    }
   ],
   "source": [
    "arr"
   ]
  },
  {
   "cell_type": "code",
   "execution_count": 14,
   "id": "ddbcbd91-038a-482e-92fa-e644c39b8da1",
   "metadata": {},
   "outputs": [
    {
     "data": {
      "text/plain": [
       "array([ 288230376151711744,  360287970189639680,  144115188075855872,\n",
       "        504403158265495552,  144115188075855872,  432345564227567616,\n",
       "        648518346341351424,  216172782113783808,  504403158265495552,\n",
       "        216172782113783808,   72057594037927936,  288230376151711744,\n",
       "        504403158265495552,  216172782113783808,  648518346341351424,\n",
       "        288230376151711744,  216172782113783808,  144115188075855872,\n",
       "       5404319552844595200,  216172782113783808,  288230376151711744,\n",
       "        432345564227567616,  288230376151711744,  216172782113783808])"
      ]
     },
     "execution_count": 14,
     "metadata": {},
     "output_type": "execute_result"
    }
   ],
   "source": [
    "arr.byteswap()"
   ]
  },
  {
   "cell_type": "code",
   "execution_count": 15,
   "id": "ac7304a5-2f80-4242-b839-c483df7bd6d1",
   "metadata": {},
   "outputs": [],
   "source": [
    "#numpu copy and viwes"
   ]
  },
  {
   "cell_type": "code",
   "execution_count": 16,
   "id": "786f4125-f5fe-418c-bb41-920303f9a2de",
   "metadata": {},
   "outputs": [
    {
     "data": {
      "text/plain": [
       "array([ 4,  5,  2,  7,  2,  6,  9,  3,  7,  3,  1,  4,  7,  3,  9,  4,  3,\n",
       "        2, 75,  3,  4,  6,  4,  3])"
      ]
     },
     "execution_count": 16,
     "metadata": {},
     "output_type": "execute_result"
    }
   ],
   "source": [
    "arr"
   ]
  },
  {
   "cell_type": "code",
   "execution_count": 17,
   "id": "3fcf35e6-dda0-4ef6-be73-e03d78b81cab",
   "metadata": {},
   "outputs": [],
   "source": [
    "a = np.copy(arr)"
   ]
  },
  {
   "cell_type": "code",
   "execution_count": 18,
   "id": "3ca1308d-d270-4c2e-a777-094cc366bd0b",
   "metadata": {},
   "outputs": [
    {
     "data": {
      "text/plain": [
       "array([ 4,  5,  2,  7,  2,  6,  9,  3,  7,  3,  1,  4,  7,  3,  9,  4,  3,\n",
       "        2, 75,  3,  4,  6,  4,  3])"
      ]
     },
     "execution_count": 18,
     "metadata": {},
     "output_type": "execute_result"
    }
   ],
   "source": [
    "a"
   ]
  },
  {
   "cell_type": "code",
   "execution_count": 19,
   "id": "85fb85a8-bada-42d8-b54a-0f2e66610cac",
   "metadata": {},
   "outputs": [],
   "source": [
    "b= arr.view()"
   ]
  },
  {
   "cell_type": "code",
   "execution_count": 20,
   "id": "68006f1b-c4ca-4df6-974b-2fdc6d68d672",
   "metadata": {},
   "outputs": [
    {
     "data": {
      "text/plain": [
       "array([ 4,  5,  2,  7,  2,  6,  9,  3,  7,  3,  1,  4,  7,  3,  9,  4,  3,\n",
       "        2, 75,  3,  4,  6,  4,  3])"
      ]
     },
     "execution_count": 20,
     "metadata": {},
     "output_type": "execute_result"
    }
   ],
   "source": [
    "b"
   ]
  },
  {
   "cell_type": "code",
   "execution_count": 22,
   "id": "5f3c0cfb-3616-4de1-8340-e2a46ccf829d",
   "metadata": {},
   "outputs": [],
   "source": [
    "b[0] = 67"
   ]
  },
  {
   "cell_type": "code",
   "execution_count": 23,
   "id": "95473a06-067c-43a4-9e63-8df244eae572",
   "metadata": {},
   "outputs": [
    {
     "data": {
      "text/plain": [
       "array([67,  5,  2,  7,  2,  6,  9,  3,  7,  3,  1,  4,  7,  3,  9,  4,  3,\n",
       "        2, 75,  3,  4,  6,  4,  3])"
      ]
     },
     "execution_count": 23,
     "metadata": {},
     "output_type": "execute_result"
    }
   ],
   "source": [
    "b"
   ]
  },
  {
   "cell_type": "code",
   "execution_count": 24,
   "id": "b3db6ade-38a4-44e7-b321-e9c6fc2c5ed4",
   "metadata": {},
   "outputs": [
    {
     "data": {
      "text/plain": [
       "array([67,  5,  2,  7,  2,  6,  9,  3,  7,  3,  1,  4,  7,  3,  9,  4,  3,\n",
       "        2, 75,  3,  4,  6,  4,  3])"
      ]
     },
     "execution_count": 24,
     "metadata": {},
     "output_type": "execute_result"
    }
   ],
   "source": [
    "arr"
   ]
  },
  {
   "cell_type": "code",
   "execution_count": 25,
   "id": "e912dcc0-697f-4296-93d2-5559904189c1",
   "metadata": {},
   "outputs": [],
   "source": [
    "#numpy matrix"
   ]
  },
  {
   "cell_type": "code",
   "execution_count": 26,
   "id": "e7a09c9a-3391-4942-a3e8-7df0c7be481a",
   "metadata": {},
   "outputs": [],
   "source": [
    "import numpy.matlib as nm"
   ]
  },
  {
   "cell_type": "code",
   "execution_count": 27,
   "id": "1f4ead2a-6e5c-4384-9dd1-51115fe8c36a",
   "metadata": {},
   "outputs": [
    {
     "data": {
      "text/plain": [
       "matrix([[0., 0., 0., 0., 0.]])"
      ]
     },
     "execution_count": 27,
     "metadata": {},
     "output_type": "execute_result"
    }
   ],
   "source": [
    "nm.zeros(5)"
   ]
  },
  {
   "cell_type": "code",
   "execution_count": 28,
   "id": "6815e720-bb08-445e-bf7b-b95945dc36cc",
   "metadata": {},
   "outputs": [
    {
     "data": {
      "text/plain": [
       "matrix([[1., 1., 1., 1., 1., 1., 1.],\n",
       "        [1., 1., 1., 1., 1., 1., 1.],\n",
       "        [1., 1., 1., 1., 1., 1., 1.],\n",
       "        [1., 1., 1., 1., 1., 1., 1.],\n",
       "        [1., 1., 1., 1., 1., 1., 1.],\n",
       "        [1., 1., 1., 1., 1., 1., 1.]])"
      ]
     },
     "execution_count": 28,
     "metadata": {},
     "output_type": "execute_result"
    }
   ],
   "source": [
    "nm.ones((6,7))"
   ]
  },
  {
   "cell_type": "code",
   "execution_count": 29,
   "id": "64767c80-91a3-49a2-bd25-3d04f49f2862",
   "metadata": {},
   "outputs": [
    {
     "data": {
      "text/plain": [
       "matrix([[1., 0., 0., 0., 0.],\n",
       "        [0., 1., 0., 0., 0.],\n",
       "        [0., 0., 1., 0., 0.],\n",
       "        [0., 0., 0., 1., 0.],\n",
       "        [0., 0., 0., 0., 1.]])"
      ]
     },
     "execution_count": 29,
     "metadata": {},
     "output_type": "execute_result"
    }
   ],
   "source": [
    "nm.eye(5)"
   ]
  },
  {
   "cell_type": "code",
   "execution_count": 30,
   "id": "58bed5aa-410f-4013-a13c-a75d962d083c",
   "metadata": {},
   "outputs": [],
   "source": [
    "# numpy linerar algebra\n"
   ]
  },
  {
   "cell_type": "code",
   "execution_count": 31,
   "id": "2cc7d346-4bf1-4638-abce-431fdd561c48",
   "metadata": {},
   "outputs": [],
   "source": [
    "arr1 = np.random.randint([[2,3],[4,5]])\n",
    "arr2 = np.random.randint([[5,3],[2,5]])"
   ]
  },
  {
   "cell_type": "code",
   "execution_count": 32,
   "id": "cd383560-281f-4ce9-b143-92860e371f67",
   "metadata": {},
   "outputs": [
    {
     "data": {
      "text/plain": [
       "array([[1, 1],\n",
       "       [1, 1]])"
      ]
     },
     "execution_count": 32,
     "metadata": {},
     "output_type": "execute_result"
    }
   ],
   "source": [
    "arr1"
   ]
  },
  {
   "cell_type": "code",
   "execution_count": 33,
   "id": "527cdf82-a4ec-4bbd-ab54-ee200766baf3",
   "metadata": {},
   "outputs": [
    {
     "data": {
      "text/plain": [
       "array([[1, 1],\n",
       "       [0, 4]])"
      ]
     },
     "execution_count": 33,
     "metadata": {},
     "output_type": "execute_result"
    }
   ],
   "source": [
    "arr2"
   ]
  },
  {
   "cell_type": "code",
   "execution_count": 34,
   "id": "cf0fdd5c-b774-414f-bd20-82fb1f7dbf54",
   "metadata": {},
   "outputs": [
    {
     "data": {
      "text/plain": [
       "array([[1, 5],\n",
       "       [1, 5]])"
      ]
     },
     "execution_count": 34,
     "metadata": {},
     "output_type": "execute_result"
    }
   ],
   "source": [
    "np.dot(arr1,arr2)"
   ]
  },
  {
   "cell_type": "code",
   "execution_count": 35,
   "id": "d9ebb241-fb45-49cb-b93f-8b00d2e7c873",
   "metadata": {},
   "outputs": [
    {
     "data": {
      "text/plain": [
       "array([[1, 5],\n",
       "       [1, 5]])"
      ]
     },
     "execution_count": 35,
     "metadata": {},
     "output_type": "execute_result"
    }
   ],
   "source": [
    "arr1@arr2"
   ]
  },
  {
   "cell_type": "code",
   "execution_count": null,
   "id": "241acbbd-761f-4b2a-b821-aaad1a6470b2",
   "metadata": {},
   "outputs": [],
   "source": []
  }
 ],
 "metadata": {
  "kernelspec": {
   "display_name": "Python 3 (ipykernel)",
   "language": "python",
   "name": "python3"
  },
  "language_info": {
   "codemirror_mode": {
    "name": "ipython",
    "version": 3
   },
   "file_extension": ".py",
   "mimetype": "text/x-python",
   "name": "python",
   "nbconvert_exporter": "python",
   "pygments_lexer": "ipython3",
   "version": "3.10.8"
  }
 },
 "nbformat": 4,
 "nbformat_minor": 5
}
