{
 "cells": [
  {
   "cell_type": "code",
   "execution_count": null,
   "id": "d3f10905-27d0-4682-b729-b44b9900607a",
   "metadata": {},
   "outputs": [],
   "source": []
  },
  {
   "cell_type": "code",
   "execution_count": 18,
   "id": "c7918f0b-6594-4da2-ae87-d891a429300f",
   "metadata": {},
   "outputs": [],
   "source": [
    "class car:\n",
    "    def __init__(self, year, make, model, speed):\n",
    "        self.__year  = year\n",
    "        self.__make  = make\n",
    "        self.__model = model\n",
    "        self.__speed = 0\n",
    "        \n",
    "    def set_speed(self, speed):\n",
    "        self.__speed = 0 if speed < 0 else speed\n",
    "        \n",
    "    def get_speed(self):\n",
    "        return self.__speed"
   ]
  },
  {
   "cell_type": "code",
   "execution_count": 19,
   "id": "6566d137-af95-41a9-a0c3-879342471fb1",
   "metadata": {},
   "outputs": [],
   "source": [
    "c = car(2021, \"Toyota\", \"innova\", 12)"
   ]
  },
  {
   "cell_type": "code",
   "execution_count": 20,
   "id": "e820a75a-f115-41aa-b977-9e8fd9bdb448",
   "metadata": {},
   "outputs": [],
   "source": [
    "c.set_speed(-3948)"
   ]
  },
  {
   "cell_type": "code",
   "execution_count": 21,
   "id": "cabeb897-2999-4a5e-b8a9-b88266cbac9e",
   "metadata": {},
   "outputs": [
    {
     "data": {
      "text/plain": [
       "0"
      ]
     },
     "execution_count": 21,
     "metadata": {},
     "output_type": "execute_result"
    }
   ],
   "source": [
    "c.get_speed()"
   ]
  },
  {
   "cell_type": "code",
   "execution_count": 22,
   "id": "172322c7-9363-47a7-aa39-bfa7501e520a",
   "metadata": {},
   "outputs": [],
   "source": [
    "c.set_speed(20)"
   ]
  },
  {
   "cell_type": "code",
   "execution_count": 23,
   "id": "adc7f9a5-72f0-4b33-b801-5c85941540d5",
   "metadata": {},
   "outputs": [
    {
     "data": {
      "text/plain": [
       "20"
      ]
     },
     "execution_count": 23,
     "metadata": {},
     "output_type": "execute_result"
    }
   ],
   "source": [
    "c.get_speed()"
   ]
  },
  {
   "cell_type": "code",
   "execution_count": 27,
   "id": "8dc45bb5-a190-4c60-bbdb-1c06639af9e4",
   "metadata": {},
   "outputs": [],
   "source": [
    "class bank_acc:\n",
    "    def __init__(self, balance):\n",
    "        self.__balance = balance\n",
    "        \n",
    "    def deposit(self, amount):\n",
    "        self.__balance = self.__balance + amount\n",
    "        \n",
    "        \n",
    "    def withdaw(self, amount):\n",
    "        if self.__balance >= amount:\n",
    "            self.__balance = self.__balance - amount\n",
    "            return True\n",
    "        else:\n",
    "            return False\n",
    "    \n",
    "    def get_ballance(self):\n",
    "        return self.__balance"
   ]
  },
  {
   "cell_type": "code",
   "execution_count": 28,
   "id": "35fc0775-46f7-4c6c-aa80-5256f2ed902c",
   "metadata": {},
   "outputs": [],
   "source": [
    "neeraj = bank_acc(1000)"
   ]
  },
  {
   "cell_type": "code",
   "execution_count": 29,
   "id": "642c6720-f785-473e-be3b-5a0e25b58c49",
   "metadata": {},
   "outputs": [
    {
     "data": {
      "text/plain": [
       "1000"
      ]
     },
     "execution_count": 29,
     "metadata": {},
     "output_type": "execute_result"
    }
   ],
   "source": [
    "neeraj.get_ballance()"
   ]
  },
  {
   "cell_type": "code",
   "execution_count": 30,
   "id": "32cfeb68-e82b-4d64-a914-52824e9a5c4e",
   "metadata": {},
   "outputs": [],
   "source": [
    "neeraj.deposit(5000)"
   ]
  },
  {
   "cell_type": "code",
   "execution_count": 31,
   "id": "7f554a42-82bc-4878-91fe-40f2d64dfa39",
   "metadata": {},
   "outputs": [
    {
     "data": {
      "text/plain": [
       "6000"
      ]
     },
     "execution_count": 31,
     "metadata": {},
     "output_type": "execute_result"
    }
   ],
   "source": [
    "neeraj.get_ballance()"
   ]
  },
  {
   "cell_type": "code",
   "execution_count": 32,
   "id": "bdfcc0d0-9988-4acc-8a2b-095c07da992f",
   "metadata": {},
   "outputs": [],
   "source": [
    "neeraj.deposit(1000)"
   ]
  },
  {
   "cell_type": "code",
   "execution_count": 34,
   "id": "99da32ed-061a-4029-8b31-0f7880dd3f97",
   "metadata": {},
   "outputs": [
    {
     "data": {
      "text/plain": [
       "7000"
      ]
     },
     "execution_count": 34,
     "metadata": {},
     "output_type": "execute_result"
    }
   ],
   "source": [
    "neeraj.get_ballance()"
   ]
  },
  {
   "cell_type": "code",
   "execution_count": 35,
   "id": "7cd9aa73-04a9-42d0-9e88-55b23d9c1020",
   "metadata": {},
   "outputs": [
    {
     "data": {
      "text/plain": [
       "False"
      ]
     },
     "execution_count": 35,
     "metadata": {},
     "output_type": "execute_result"
    }
   ],
   "source": [
    "neeraj.withdaw(9000)"
   ]
  },
  {
   "cell_type": "code",
   "execution_count": 36,
   "id": "ed539b44-1b7d-4b1b-b6da-1bf8bda4d65d",
   "metadata": {},
   "outputs": [
    {
     "data": {
      "text/plain": [
       "True"
      ]
     },
     "execution_count": 36,
     "metadata": {},
     "output_type": "execute_result"
    }
   ],
   "source": [
    "neeraj.withdaw(2000)"
   ]
  },
  {
   "cell_type": "code",
   "execution_count": 37,
   "id": "c9149272-c996-42c7-83e9-d9e62a460bb6",
   "metadata": {},
   "outputs": [
    {
     "data": {
      "text/plain": [
       "5000"
      ]
     },
     "execution_count": 37,
     "metadata": {},
     "output_type": "execute_result"
    }
   ],
   "source": [
    "neeraj.get_ballance()"
   ]
  },
  {
   "cell_type": "code",
   "execution_count": null,
   "id": "3f552d8b-1497-49b5-9993-80925433fe1d",
   "metadata": {},
   "outputs": [],
   "source": []
  }
 ],
 "metadata": {
  "kernelspec": {
   "display_name": "Python 3 (ipykernel)",
   "language": "python",
   "name": "python3"
  },
  "language_info": {
   "codemirror_mode": {
    "name": "ipython",
    "version": 3
   },
   "file_extension": ".py",
   "mimetype": "text/x-python",
   "name": "python",
   "nbconvert_exporter": "python",
   "pygments_lexer": "ipython3",
   "version": "3.10.8"
  }
 },
 "nbformat": 4,
 "nbformat_minor": 5
}
