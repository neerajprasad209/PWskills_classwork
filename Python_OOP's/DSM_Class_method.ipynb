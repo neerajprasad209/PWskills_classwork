{
 "cells": [
  {
   "cell_type": "markdown",
   "id": "d8bbe0f6-b878-497b-8432-fde6b5c2e6de",
   "metadata": {},
   "source": [
    "# Normal method "
   ]
  },
  {
   "cell_type": "code",
   "execution_count": 1,
   "id": "b6113eed-83fc-4fe7-8c03-da43a50cacd9",
   "metadata": {},
   "outputs": [],
   "source": [
    "class pwskils:\n",
    "    def __init__(self, name, email):\n",
    "        \n",
    "        self.name = name\n",
    "        self.email = email\n",
    "    \n",
    "    def students_details(self):\n",
    "        print(self.name,self.email)"
   ]
  },
  {
   "cell_type": "code",
   "execution_count": 3,
   "id": "d160e688-6736-4dae-9459-99cb0edbf1dd",
   "metadata": {},
   "outputs": [],
   "source": [
    "\n",
    "pw = pwskils(\"Neeraj\",\"Neeraj@gmail\")"
   ]
  },
  {
   "cell_type": "code",
   "execution_count": 4,
   "id": "29d3f3df-d998-44d5-b3dd-e9f2bdfe87c8",
   "metadata": {},
   "outputs": [
    {
     "data": {
      "text/plain": [
       "'Neeraj'"
      ]
     },
     "execution_count": 4,
     "metadata": {},
     "output_type": "execute_result"
    }
   ],
   "source": [
    "pw.name"
   ]
  },
  {
   "cell_type": "code",
   "execution_count": 5,
   "id": "4ec8be43-d020-4a6b-8922-39fa7ae2103c",
   "metadata": {},
   "outputs": [
    {
     "data": {
      "text/plain": [
       "'Neeraj@gmail'"
      ]
     },
     "execution_count": 5,
     "metadata": {},
     "output_type": "execute_result"
    }
   ],
   "source": [
    "pw.email"
   ]
  },
  {
   "cell_type": "code",
   "execution_count": 6,
   "id": "855865db-eccf-41cb-b7b0-e0896c1b994d",
   "metadata": {},
   "outputs": [
    {
     "name": "stdout",
     "output_type": "stream",
     "text": [
      "Neeraj Neeraj@gmail\n"
     ]
    }
   ],
   "source": [
    "pw.students_details()"
   ]
  },
  {
   "cell_type": "markdown",
   "id": "a65c6ee7-cc53-4694-a9bb-ca3da1a82a70",
   "metadata": {},
   "source": [
    "# Class Method"
   ]
  },
  {
   "cell_type": "code",
   "execution_count": 8,
   "id": "32fccefd-be4d-4dee-b61e-adef23e2810e",
   "metadata": {},
   "outputs": [],
   "source": [
    "class pwskils1:\n",
    "    def __init__(self, name, email):\n",
    "        \n",
    "        self.name = name\n",
    "        self.email = email\n",
    "        \n",
    "    @classmethod    \n",
    "    def details(cls, name, email):\n",
    "        return cls(name,email)\n",
    "    \n",
    "    \n",
    "    def students_details(self):\n",
    "        print(self.name,self.email)"
   ]
  },
  {
   "cell_type": "code",
   "execution_count": 11,
   "id": "1f29dae7-2d31-4e52-bbd5-e6249745ec24",
   "metadata": {},
   "outputs": [],
   "source": [
    "pw1 = pwskils1.details(\"Neeraj\",\"Neeraj@gmail.com\")"
   ]
  },
  {
   "cell_type": "code",
   "execution_count": 13,
   "id": "4457ea5c-ef8b-44f5-8822-16317cc08060",
   "metadata": {},
   "outputs": [
    {
     "data": {
      "text/plain": [
       "'Neeraj'"
      ]
     },
     "execution_count": 13,
     "metadata": {},
     "output_type": "execute_result"
    }
   ],
   "source": [
    "pw1.name"
   ]
  },
  {
   "cell_type": "code",
   "execution_count": 14,
   "id": "3d653dbd-147a-4c2a-99b1-55699c86538c",
   "metadata": {},
   "outputs": [
    {
     "data": {
      "text/plain": [
       "'Neeraj@gmail.com'"
      ]
     },
     "execution_count": 14,
     "metadata": {},
     "output_type": "execute_result"
    }
   ],
   "source": [
    "pw1.email"
   ]
  },
  {
   "cell_type": "code",
   "execution_count": 15,
   "id": "d31dca67-5ef7-4ee9-9616-ec8b947c6f4d",
   "metadata": {},
   "outputs": [
    {
     "name": "stdout",
     "output_type": "stream",
     "text": [
      "Neeraj Neeraj@gmail.com\n"
     ]
    }
   ],
   "source": [
    "pw1.students_details()"
   ]
  },
  {
   "cell_type": "code",
   "execution_count": 22,
   "id": "70f0d8a4-1101-4094-944e-901e1900176d",
   "metadata": {},
   "outputs": [],
   "source": [
    "class pwskils2:\n",
    "    \n",
    "    mobile_num = 1234567890\n",
    "    \n",
    "    \n",
    "    def __init__(self, name, email):\n",
    "        \n",
    "        self.name = name\n",
    "        self.email = email\n",
    "    \n",
    "    @classmethod\n",
    "    def change_number(cls, mobile):\n",
    "        pwskils2.mobile_num = mobile\n",
    "        \n",
    "    @classmethod    \n",
    "    def details(cls, name, email):\n",
    "        return cls(name,email)\n",
    "    \n",
    "    \n",
    "    def students_details(self):\n",
    "        print(self.name,self.email,pwskils2.mobile_num)"
   ]
  },
  {
   "cell_type": "code",
   "execution_count": 23,
   "id": "1e3098ea-e02d-4ea8-aecc-68c223682e55",
   "metadata": {},
   "outputs": [
    {
     "data": {
      "text/plain": [
       "1234567890"
      ]
     },
     "execution_count": 23,
     "metadata": {},
     "output_type": "execute_result"
    }
   ],
   "source": [
    "pwskils2.mobile_num"
   ]
  },
  {
   "cell_type": "code",
   "execution_count": 24,
   "id": "2e4ecdb9-29ad-4a0c-8240-bb7a38c95d25",
   "metadata": {},
   "outputs": [],
   "source": [
    "pwskils2.change_number(9876543216)"
   ]
  },
  {
   "cell_type": "code",
   "execution_count": 25,
   "id": "006034ca-1440-41b8-87de-b6a1aede7aae",
   "metadata": {},
   "outputs": [
    {
     "data": {
      "text/plain": [
       "9876543216"
      ]
     },
     "execution_count": 25,
     "metadata": {},
     "output_type": "execute_result"
    }
   ],
   "source": [
    "pwskils2.mobile_num"
   ]
  },
  {
   "cell_type": "code",
   "execution_count": 26,
   "id": "0e8fad4e-bce9-4479-8201-2116a7e8142d",
   "metadata": {},
   "outputs": [],
   "source": [
    "pw_obj = pwskils2(\"Neeraj\",\"Neeraj@gmail.com\")"
   ]
  },
  {
   "cell_type": "code",
   "execution_count": 27,
   "id": "2423aa59-05df-42ad-8fc9-0c5269275646",
   "metadata": {},
   "outputs": [
    {
     "name": "stdout",
     "output_type": "stream",
     "text": [
      "Neeraj Neeraj@gmail.com 9876543216\n"
     ]
    }
   ],
   "source": [
    "pw_obj.students_details()"
   ]
  },
  {
   "cell_type": "code",
   "execution_count": 28,
   "id": "fd84abf4-532b-4134-a433-d4ed133152f1",
   "metadata": {},
   "outputs": [],
   "source": [
    "pw = pwskils2.details(\"rohan\",\"rohan@gmail.com\")"
   ]
  },
  {
   "cell_type": "code",
   "execution_count": 30,
   "id": "e4edbe44-b08d-4d52-9a83-4d2ef358dcc5",
   "metadata": {},
   "outputs": [
    {
     "name": "stdout",
     "output_type": "stream",
     "text": [
      "rohan rohan@gmail.com 9876543216\n"
     ]
    }
   ],
   "source": [
    "pw.students_details()"
   ]
  },
  {
   "cell_type": "code",
   "execution_count": 31,
   "id": "4919da43-65eb-43f0-9559-ee66aba52c1e",
   "metadata": {},
   "outputs": [],
   "source": [
    "class pwskils3:\n",
    "    \n",
    "    mobile_num = 1234567890\n",
    "    \n",
    "    \n",
    "    def __init__(self, name, email):\n",
    "        \n",
    "        self.name = name\n",
    "        self.email = email\n",
    "    \n",
    "    @classmethod\n",
    "    def change_number(cls, mobile):\n",
    "        pwskils2.mobile_num = mobile\n",
    "        \n",
    "    @classmethod    \n",
    "    def details(cls, name, email):\n",
    "        return cls(name,email)\n",
    "    \n",
    "    \n",
    "    def students_details(self):\n",
    "        print(self.name,self.email,pwskils2.mobile_num)"
   ]
  },
  {
   "cell_type": "code",
   "execution_count": 32,
   "id": "7e244568-c8cd-4b1f-9aca-d981ab8a23e2",
   "metadata": {},
   "outputs": [],
   "source": [
    "def course_details(cls,course_name):\n",
    "    print(\"Course name is \", course_name)"
   ]
  },
  {
   "cell_type": "code",
   "execution_count": 33,
   "id": "73bedb89-daf2-4ec1-a4b6-5b5b35d35b3b",
   "metadata": {},
   "outputs": [],
   "source": [
    "pwskils3.course_details = classmethod(course_details)"
   ]
  },
  {
   "cell_type": "code",
   "execution_count": 34,
   "id": "06ba7a70-16fc-4f53-bfec-b83eab3b58ec",
   "metadata": {},
   "outputs": [
    {
     "name": "stdout",
     "output_type": "stream",
     "text": [
      "Course name is  Data Science Masters\n"
     ]
    }
   ],
   "source": [
    "pwskils3.course_details(\"Data Science Masters\")"
   ]
  },
  {
   "cell_type": "code",
   "execution_count": 35,
   "id": "7f1f15d0-1eed-44b5-ab17-1ff760db9637",
   "metadata": {},
   "outputs": [],
   "source": [
    "def mentor(cls,list_of_mentor):\n",
    "    print(list_of_mentor)"
   ]
  },
  {
   "cell_type": "code",
   "execution_count": 36,
   "id": "c194222c-6094-4f43-ba92-af674d6cb37c",
   "metadata": {},
   "outputs": [],
   "source": [
    "pwskils3.mentor = classmethod(mentor)"
   ]
  },
  {
   "cell_type": "code",
   "execution_count": 39,
   "id": "0c757e8e-65a9-4779-8f7d-aa9f239f6039",
   "metadata": {},
   "outputs": [
    {
     "name": "stdout",
     "output_type": "stream",
     "text": [
      "['Neeraj', 'Sudhanshu', 'Krish']\n"
     ]
    }
   ],
   "source": [
    "pwskils3.mentor([\"Neeraj\",\"Sudhanshu\",\"Krish\"])"
   ]
  },
  {
   "cell_type": "code",
   "execution_count": 41,
   "id": "58ae0f62-12ba-43bf-9e2f-003ac7c32abd",
   "metadata": {},
   "outputs": [],
   "source": [
    "class pwskils4:\n",
    "    \n",
    "    mobile_num = 1234567890\n",
    "    \n",
    "    \n",
    "    def __init__(self, name, email):\n",
    "        \n",
    "        self.name = name\n",
    "        self.email = email\n",
    "    \n",
    "    @classmethod\n",
    "    def change_number(cls, mobile):\n",
    "        pwskils2.mobile_num = mobile\n",
    "        \n",
    "    @classmethod    \n",
    "    def details(cls, name, email):\n",
    "        return cls(name,email)\n",
    "    \n",
    "    \n",
    "    def students_details(self):\n",
    "        print(self.name,self.email,pwskils2.mobile_num)"
   ]
  },
  {
   "cell_type": "code",
   "execution_count": 42,
   "id": "69fafc9d-532e-45f3-9ff1-810014c5fb02",
   "metadata": {},
   "outputs": [],
   "source": [
    "del pwskils4.change_number"
   ]
  },
  {
   "cell_type": "code",
   "execution_count": 43,
   "id": "a804c769-23fe-4dcb-8193-5937147e70fa",
   "metadata": {},
   "outputs": [],
   "source": [
    "delattr(pwskils4,\"details\")"
   ]
  },
  {
   "cell_type": "code",
   "execution_count": 44,
   "id": "f067cbca-ce96-45bb-b1b9-68857758bf1d",
   "metadata": {},
   "outputs": [],
   "source": [
    "delattr(pwskils4,\"students_details\")"
   ]
  },
  {
   "cell_type": "code",
   "execution_count": 45,
   "id": "d412947d-8c2f-4430-a12e-f1c1ef30e467",
   "metadata": {},
   "outputs": [],
   "source": [
    "delattr(pwskils4,\"mobile_num\")"
   ]
  },
  {
   "cell_type": "code",
   "execution_count": null,
   "id": "e03fa3cc-41e5-4de5-9da9-dd2fa27d2c9f",
   "metadata": {},
   "outputs": [],
   "source": [
    "pwskils4."
   ]
  }
 ],
 "metadata": {
  "kernelspec": {
   "display_name": "Python 3 (ipykernel)",
   "language": "python",
   "name": "python3"
  },
  "language_info": {
   "codemirror_mode": {
    "name": "ipython",
    "version": 3
   },
   "file_extension": ".py",
   "mimetype": "text/x-python",
   "name": "python",
   "nbconvert_exporter": "python",
   "pygments_lexer": "ipython3",
   "version": "3.10.8"
  }
 },
 "nbformat": 4,
 "nbformat_minor": 5
}
