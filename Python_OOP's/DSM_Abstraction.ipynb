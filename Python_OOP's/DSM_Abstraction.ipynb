{
 "cells": [
  {
   "cell_type": "code",
   "execution_count": 5,
   "id": "a7b9aa0e-4d01-4c69-b960-4d2fc40e073a",
   "metadata": {},
   "outputs": [],
   "source": [
    "# sckletion of a class\n",
    "import abc\n",
    "\n",
    "class pwskills:\n",
    "    @abc.abstractmethod\n",
    "    def students_details(self):\n",
    "        pass\n",
    "    \n",
    "    @abc.abstractmethod\n",
    "    def student_assigment(self):\n",
    "        pass\n",
    "    \n",
    "    @abc.abstractmethod\n",
    "    def student_marks(self):\n",
    "        pass"
   ]
  },
  {
   "cell_type": "code",
   "execution_count": 6,
   "id": "4d293cea-d0cf-4fe0-8d11-5ab65bdfd3d1",
   "metadata": {},
   "outputs": [],
   "source": [
    "class student_details(pwskills):\n",
    "    def students_details(self):\n",
    "        return \"this is a method for taking student details\"\n",
    "    def student_assigment(self):\n",
    "        return \"this is method for taking assigment for perticular student\"\n",
    "    "
   ]
  },
  {
   "cell_type": "code",
   "execution_count": 8,
   "id": "fcc2fb24-5a24-4a67-8217-df19993c386b",
   "metadata": {},
   "outputs": [],
   "source": [
    "class dsm(pwskills):\n",
    "    \n",
    "    def students_details(self):\n",
    "        return \"This will return a student details for data science masters\"\n",
    "    \n",
    "    def student_assigment(self):\n",
    "        return \" This will give assigment details for data science masters\""
   ]
  },
  {
   "cell_type": "code",
   "execution_count": 9,
   "id": "3ab110f1-6e89-41f9-a385-f32bfce2f079",
   "metadata": {},
   "outputs": [
    {
     "data": {
      "text/plain": [
       "'This will return a student details for data science masters'"
      ]
     },
     "execution_count": 9,
     "metadata": {},
     "output_type": "execute_result"
    }
   ],
   "source": [
    "data_science_masters = dsm()\n",
    "data_science_masters.students_details()"
   ]
  },
  {
   "cell_type": "code",
   "execution_count": 10,
   "id": "208b86ac-7b09-4948-a63e-77c931b4a8cc",
   "metadata": {},
   "outputs": [
    {
     "data": {
      "text/plain": [
       "' This will give assigment details for data science masters'"
      ]
     },
     "execution_count": 10,
     "metadata": {},
     "output_type": "execute_result"
    }
   ],
   "source": [
    "data_science_masters.student_assigment()"
   ]
  },
  {
   "cell_type": "code",
   "execution_count": 11,
   "id": "20717080-d322-489d-83e8-805578a7b7ac",
   "metadata": {},
   "outputs": [
    {
     "data": {
      "text/plain": [
       "'this is a method for taking student details'"
      ]
     },
     "execution_count": 11,
     "metadata": {},
     "output_type": "execute_result"
    }
   ],
   "source": [
    "sd = student_details()\n",
    "sd.students_details()"
   ]
  },
  {
   "cell_type": "code",
   "execution_count": null,
   "id": "1257c0f6-149e-4347-90ea-2b3f21864a8b",
   "metadata": {},
   "outputs": [],
   "source": []
  },
  {
   "cell_type": "code",
   "execution_count": null,
   "id": "d4c2a603-383f-48be-bdc9-0240386d5758",
   "metadata": {},
   "outputs": [],
   "source": []
  },
  {
   "cell_type": "code",
   "execution_count": 17,
   "id": "1a3f2358-082b-415e-a271-458c32a2a4d0",
   "metadata": {},
   "outputs": [],
   "source": [
    "import abc\n",
    "\n",
    "class Shape:\n",
    "    @abc.abstractmethod\n",
    "    def area(self):\n",
    "        pass"
   ]
  },
  {
   "cell_type": "code",
   "execution_count": 20,
   "id": "65dc897b-2919-4daf-a694-06d83e19fefb",
   "metadata": {},
   "outputs": [],
   "source": [
    "class area(Shape):\n",
    "    def area_of_triangle(self):\n",
    "        return\"Gives area of triangle\""
   ]
  },
  {
   "cell_type": "code",
   "execution_count": 21,
   "id": "003c26bd-87d0-4f63-aa51-96ae8428013e",
   "metadata": {},
   "outputs": [
    {
     "data": {
      "text/plain": [
       "'Gives area of triangle'"
      ]
     },
     "execution_count": 21,
     "metadata": {},
     "output_type": "execute_result"
    }
   ],
   "source": [
    "aot = area()\n",
    "aot.area_of_triangle()"
   ]
  },
  {
   "cell_type": "code",
   "execution_count": null,
   "id": "e71a176e-9edd-4380-b106-03bb09a078c7",
   "metadata": {},
   "outputs": [],
   "source": []
  }
 ],
 "metadata": {
  "kernelspec": {
   "display_name": "Python 3 (ipykernel)",
   "language": "python",
   "name": "python3"
  },
  "language_info": {
   "codemirror_mode": {
    "name": "ipython",
    "version": 3
   },
   "file_extension": ".py",
   "mimetype": "text/x-python",
   "name": "python",
   "nbconvert_exporter": "python",
   "pygments_lexer": "ipython3",
   "version": "3.10.8"
  }
 },
 "nbformat": 4,
 "nbformat_minor": 5
}
