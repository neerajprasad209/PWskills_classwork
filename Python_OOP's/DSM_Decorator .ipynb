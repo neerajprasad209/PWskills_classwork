{
 "cells": [
  {
   "cell_type": "code",
   "execution_count": 3,
   "id": "54090dbb-47b9-483f-8315-bcbc5d5f0321",
   "metadata": {},
   "outputs": [],
   "source": [
    "def test():\n",
    "    print(\"This is the start of my function\")\n",
    "    print(\"This is my function to test\")\n",
    "    print(4+5)\n",
    "    print('This is the end of the function')"
   ]
  },
  {
   "cell_type": "code",
   "execution_count": 4,
   "id": "c774a82e-0c9a-42fd-a92b-bc01e4220504",
   "metadata": {},
   "outputs": [
    {
     "name": "stdout",
     "output_type": "stream",
     "text": [
      "This is the start of my function\n",
      "This is my function to test\n",
      "9\n",
      "This is the end of the function\n"
     ]
    }
   ],
   "source": [
    "test()"
   ]
  },
  {
   "cell_type": "code",
   "execution_count": 5,
   "id": "97da6792-780c-4b5b-a6e2-08c7ce7fd07f",
   "metadata": {},
   "outputs": [],
   "source": [
    "def deco(func):\n",
    "    def inner_dec():\n",
    "        print(\"This is the start of my function\")\n",
    "        func()\n",
    "        print('This is the end of the function')\n",
    "    return inner_dec"
   ]
  },
  {
   "cell_type": "code",
   "execution_count": 9,
   "id": "1763ad98-1bb1-489b-aa8e-a965b35e7149",
   "metadata": {},
   "outputs": [],
   "source": [
    "@deco\n",
    "def test1():\n",
    "    print(6+7)"
   ]
  },
  {
   "cell_type": "code",
   "execution_count": 10,
   "id": "db832305-6d00-4c12-b821-ce6ba791f074",
   "metadata": {},
   "outputs": [
    {
     "name": "stdout",
     "output_type": "stream",
     "text": [
      "This is the start of my function\n",
      "13\n",
      "This is the end of the function\n"
     ]
    }
   ],
   "source": [
    "test1()"
   ]
  },
  {
   "cell_type": "markdown",
   "id": "4788e2a6-59ba-41a3-b244-00729ca6c6ee",
   "metadata": {},
   "source": [
    "# Time complexity"
   ]
  },
  {
   "cell_type": "code",
   "execution_count": 32,
   "id": "64c3cd1c-ae96-471e-8e2b-2fc338644695",
   "metadata": {},
   "outputs": [],
   "source": [
    "import time\n",
    "\n",
    "def timer_test(func):\n",
    "    def timer_test_inner ():\n",
    "        \n",
    "        start = time.time()\n",
    "        func()\n",
    "        end = time.time()\n",
    "        \n",
    "        print(end-start)\n",
    "    return timer_test_inner"
   ]
  },
  {
   "cell_type": "code",
   "execution_count": 33,
   "id": "c23613aa-72c9-4c6f-a896-c5302dd939f6",
   "metadata": {},
   "outputs": [],
   "source": [
    "def test2():\n",
    "    print(45+78)"
   ]
  },
  {
   "cell_type": "code",
   "execution_count": 34,
   "id": "0738f720-8cea-4fcd-9ff3-90f397c0d9c2",
   "metadata": {},
   "outputs": [
    {
     "name": "stdout",
     "output_type": "stream",
     "text": [
      "123\n"
     ]
    }
   ],
   "source": [
    "test2()"
   ]
  },
  {
   "cell_type": "code",
   "execution_count": 35,
   "id": "e2c44341-5525-4870-b90a-3beca084ad76",
   "metadata": {},
   "outputs": [],
   "source": [
    "@timer_test\n",
    "def test2():\n",
    "    print(34+23)"
   ]
  },
  {
   "cell_type": "code",
   "execution_count": 36,
   "id": "aecc238f-de83-4728-9741-f1d128425c7e",
   "metadata": {},
   "outputs": [
    {
     "name": "stdout",
     "output_type": "stream",
     "text": [
      "57\n",
      "5.650520324707031e-05\n"
     ]
    }
   ],
   "source": [
    "test2()"
   ]
  },
  {
   "cell_type": "code",
   "execution_count": 53,
   "id": "2ec613a3-04ee-4123-a36c-58877606735d",
   "metadata": {},
   "outputs": [],
   "source": [
    "@timer_test\n",
    "def test():\n",
    "    for i in range(100000000):\n",
    "        pass"
   ]
  },
  {
   "cell_type": "code",
   "execution_count": 54,
   "id": "6602e8ce-776b-438e-9670-b01e02314724",
   "metadata": {},
   "outputs": [
    {
     "name": "stdout",
     "output_type": "stream",
     "text": [
      "2.2031779289245605\n"
     ]
    }
   ],
   "source": [
    "test()"
   ]
  },
  {
   "cell_type": "code",
   "execution_count": null,
   "id": "a79dbb5c-5f4f-4ada-b035-51e5c8b44130",
   "metadata": {},
   "outputs": [],
   "source": []
  }
 ],
 "metadata": {
  "kernelspec": {
   "display_name": "Python 3 (ipykernel)",
   "language": "python",
   "name": "python3"
  },
  "language_info": {
   "codemirror_mode": {
    "name": "ipython",
    "version": 3
   },
   "file_extension": ".py",
   "mimetype": "text/x-python",
   "name": "python",
   "nbconvert_exporter": "python",
   "pygments_lexer": "ipython3",
   "version": "3.10.8"
  }
 },
 "nbformat": 4,
 "nbformat_minor": 5
}
