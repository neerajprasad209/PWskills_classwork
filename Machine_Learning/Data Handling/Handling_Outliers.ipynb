{
 "cells": [
  {
   "cell_type": "markdown",
   "id": "2279bb15-22c1-46b1-bdf6-581af4dc24e8",
   "metadata": {},
   "source": [
    "# Handling outliers \n",
    "\n",
    "### 5 Number Summary\n",
    "\n",
    "1. Minimum value\n",
    "2. Q1 - 25% \n",
    "3. Median/Q2 - 50%\n",
    "4. Q3 - 75% \n",
    "5. Maximum \n"
   ]
  },
  {
   "cell_type": "code",
   "execution_count": 2,
   "id": "5f1faddc-d6ae-4523-8732-790422ac75d7",
   "metadata": {},
   "outputs": [],
   "source": [
    "import numpy as np"
   ]
  },
  {
   "cell_type": "code",
   "execution_count": 3,
   "id": "bf5ece4e-1b15-4aef-a774-401efd604eeb",
   "metadata": {},
   "outputs": [],
   "source": [
    "lst_marks = [45,32,56,75,89,54,32,89,90,87,76,67,54,98,99,24,67,74,39,57,1000,1100]"
   ]
  },
  {
   "cell_type": "code",
   "execution_count": 4,
   "id": "7af36a1e-8ce9-4c33-a977-b62b6d5a224d",
   "metadata": {},
   "outputs": [
    {
     "data": {
      "text/plain": [
       "array([54.])"
      ]
     },
     "execution_count": 4,
     "metadata": {},
     "output_type": "execute_result"
    }
   ],
   "source": [
    "np.percentile(lst_marks,[25])"
   ]
  },
  {
   "cell_type": "code",
   "execution_count": 5,
   "id": "a8277d10-a524-4a93-926b-840715909f2b",
   "metadata": {},
   "outputs": [
    {
     "data": {
      "text/plain": [
       "array([89.])"
      ]
     },
     "execution_count": 5,
     "metadata": {},
     "output_type": "execute_result"
    }
   ],
   "source": [
    "np.percentile(lst_marks,[75])"
   ]
  },
  {
   "cell_type": "code",
   "execution_count": 6,
   "id": "bdfa144b-7490-4739-b0f5-99eb171d40b0",
   "metadata": {},
   "outputs": [
    {
     "data": {
      "text/plain": [
       "array([70.5])"
      ]
     },
     "execution_count": 6,
     "metadata": {},
     "output_type": "execute_result"
    }
   ],
   "source": [
    "np.percentile(lst_marks,[50])"
   ]
  },
  {
   "cell_type": "code",
   "execution_count": 7,
   "id": "18aab16a-fed5-46a2-97af-56b7417941ba",
   "metadata": {},
   "outputs": [
    {
     "data": {
      "text/plain": [
       "array([1100.])"
      ]
     },
     "execution_count": 7,
     "metadata": {},
     "output_type": "execute_result"
    }
   ],
   "source": [
    "np.percentile(lst_marks,[100])"
   ]
  },
  {
   "cell_type": "code",
   "execution_count": 8,
   "id": "222007da-041e-4f20-a59f-ff49558c9491",
   "metadata": {},
   "outputs": [],
   "source": [
    "## lower Fence <-----> Higher Fence"
   ]
  },
  {
   "cell_type": "code",
   "execution_count": 9,
   "id": "07d1a3eb-53c3-4089-b280-d2fa60647539",
   "metadata": {},
   "outputs": [],
   "source": [
    "Q1 = np.percentile(lst_marks,[25])"
   ]
  },
  {
   "cell_type": "code",
   "execution_count": 10,
   "id": "efb7e760-8299-4ce7-a2e5-9d099763102f",
   "metadata": {},
   "outputs": [
    {
     "name": "stdout",
     "output_type": "stream",
     "text": [
      "[54.]\n"
     ]
    }
   ],
   "source": [
    "print(Q1)"
   ]
  },
  {
   "cell_type": "code",
   "execution_count": 12,
   "id": "a6f76173-5963-432e-9b3f-f1f072f60cfb",
   "metadata": {},
   "outputs": [],
   "source": [
    "minu,Q1,Q2,Q3,maxi = np.quantile(lst_marks,[0,0.25,0.50,0.75,1.0])"
   ]
  },
  {
   "cell_type": "code",
   "execution_count": 13,
   "id": "3fd92b78-7090-4f20-8495-dd8d47f3e4e1",
   "metadata": {},
   "outputs": [
    {
     "data": {
      "text/plain": [
       "1100.0"
      ]
     },
     "execution_count": 13,
     "metadata": {},
     "output_type": "execute_result"
    }
   ],
   "source": [
    "maxi"
   ]
  },
  {
   "cell_type": "code",
   "execution_count": null,
   "id": "74aa205d-0414-434f-95c6-14d653a1eacd",
   "metadata": {},
   "outputs": [],
   "source": [
    "# To calculate Lower fence and Higer Fence we find Inter Quartile Range IQR"
   ]
  },
  {
   "cell_type": "code",
   "execution_count": 14,
   "id": "6066e611-4940-4e45-a3b7-81596b6c4ccd",
   "metadata": {},
   "outputs": [
    {
     "name": "stdout",
     "output_type": "stream",
     "text": [
      "35.0\n"
     ]
    }
   ],
   "source": [
    "IQR = Q3-Q1\n",
    "print(IQR)"
   ]
  },
  {
   "cell_type": "code",
   "execution_count": 16,
   "id": "ae514a2f-3891-4401-b7ef-ff00d21495b7",
   "metadata": {},
   "outputs": [],
   "source": [
    "lower_fance = Q1-1.5*(IQR)\n",
    "higher_fence = Q3+1.5*(IQR)"
   ]
  },
  {
   "cell_type": "code",
   "execution_count": 17,
   "id": "711e4feb-7c9a-4c98-bbdf-67c78e451dce",
   "metadata": {},
   "outputs": [
    {
     "data": {
      "text/plain": [
       "(1.5, 141.5)"
      ]
     },
     "execution_count": 17,
     "metadata": {},
     "output_type": "execute_result"
    }
   ],
   "source": [
    "lower_fance,higher_fence"
   ]
  },
  {
   "cell_type": "code",
   "execution_count": 18,
   "id": "c4ba4055-4b7a-4748-b1b5-1db22a5a5998",
   "metadata": {},
   "outputs": [
    {
     "name": "stdout",
     "output_type": "stream",
     "text": [
      "Element is not an outlier\n",
      "Element is not an outlier\n",
      "Element is not an outlier\n",
      "Element is not an outlier\n",
      "Element is not an outlier\n",
      "Element is not an outlier\n",
      "Element is not an outlier\n",
      "Element is not an outlier\n",
      "Element is not an outlier\n",
      "Element is not an outlier\n",
      "Element is not an outlier\n",
      "Element is not an outlier\n",
      "Element is not an outlier\n",
      "Element is not an outlier\n",
      "Element is not an outlier\n",
      "Element is not an outlier\n",
      "Element is not an outlier\n",
      "Element is not an outlier\n",
      "Element is not an outlier\n",
      "Element is not an outlier\n"
     ]
    }
   ],
   "source": [
    "outliers = []\n",
    "for i in lst_marks:\n",
    "    if i>=1.5 and i<= 141.5:\n",
    "        print(\"Element is not an outlier\")\n",
    "    else:\n",
    "        outliers.append(i)"
   ]
  },
  {
   "cell_type": "code",
   "execution_count": 19,
   "id": "62005d6e-653f-4b46-919c-9dd185666c41",
   "metadata": {},
   "outputs": [
    {
     "data": {
      "text/plain": [
       "[1000, 1100]"
      ]
     },
     "execution_count": 19,
     "metadata": {},
     "output_type": "execute_result"
    }
   ],
   "source": [
    "outliers"
   ]
  },
  {
   "cell_type": "code",
   "execution_count": 20,
   "id": "daef1c24-df69-4e3e-ae44-0d003a5a4765",
   "metadata": {},
   "outputs": [],
   "source": [
    "import seaborn as sns"
   ]
  },
  {
   "cell_type": "code",
   "execution_count": 21,
   "id": "51e3e16a-5508-411c-8d3f-0409f871cdae",
   "metadata": {},
   "outputs": [
    {
     "data": {
      "text/plain": [
       "<AxesSubplot: >"
      ]
     },
     "execution_count": 21,
     "metadata": {},
     "output_type": "execute_result"
    },
    {
     "data": {
      "image/png": "[encoded data removed]",
      "text/plain": [
       "<Figure size 640x480 with 1 Axes>"
      ]
     },
     "metadata": {},
     "output_type": "display_data"
    }
   ],
   "source": [
    "sns.boxplot(lst_marks)"
   ]
  },
  {
   "cell_type": "code",
   "execution_count": null,
   "id": "8bb89e79-f877-4758-b190-d7dd43184bf9",
   "metadata": {},
   "outputs": [],
   "source": []
  }
 ],
 "metadata": {
  "kernelspec": {
   "display_name": "Python 3 (ipykernel)",
   "language": "python",
   "name": "python3"
  },
  "language_info": {
   "codemirror_mode": {
    "name": "ipython",
    "version": 3
   },
   "file_extension": ".py",
   "mimetype": "text/x-python",
   "name": "python",
   "nbconvert_exporter": "python",
   "pygments_lexer": "ipython3",
   "version": "3.10.8"
  }
 },
 "nbformat": 4,
 "nbformat_minor": 5
}
