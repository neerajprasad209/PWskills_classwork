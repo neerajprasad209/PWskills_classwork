{
 "cells": [
  {
   "cell_type": "markdown",
   "id": "118aa290-193b-4160-9a17-56f1e8811d43",
   "metadata": {},
   "source": [
    "# Dictionary"
   ]
  },
  {
   "cell_type": "code",
   "execution_count": 7,
   "id": "3c2dd0c0-2e72-4520-8ad3-4d8c823ca827",
   "metadata": {},
   "outputs": [],
   "source": [
    "d = {}"
   ]
  },
  {
   "cell_type": "code",
   "execution_count": 8,
   "id": "fe1d0b4b-bc5f-455a-a18d-a33983df531b",
   "metadata": {},
   "outputs": [
    {
     "data": {
      "text/plain": [
       "dict"
      ]
     },
     "execution_count": 8,
     "metadata": {},
     "output_type": "execute_result"
    }
   ],
   "source": [
    "type(d)"
   ]
  },
  {
   "cell_type": "code",
   "execution_count": 13,
   "id": "e3232906-4fab-4d5b-9935-e4bc15135157",
   "metadata": {},
   "outputs": [],
   "source": [
    "d1 = {'key':\"Neeraj\"}"
   ]
  },
  {
   "cell_type": "code",
   "execution_count": 4,
   "id": "fbf61477-327d-4b4f-bcef-1d3c1ed321d9",
   "metadata": {},
   "outputs": [
    {
     "data": {
      "text/plain": [
       "{'key': 'Neeraj'}"
      ]
     },
     "execution_count": 4,
     "metadata": {},
     "output_type": "execute_result"
    }
   ],
   "source": [
    "d1"
   ]
  },
  {
   "cell_type": "code",
   "execution_count": 12,
   "id": "7081f1ec-c45f-400c-b111-3ffc1c03a092",
   "metadata": {},
   "outputs": [],
   "source": [
    "d2 = {'key': \"Neeraj\",\"email\": \"neeraj@gmail.com\",\"number\":8366491847}"
   ]
  },
  {
   "cell_type": "code",
   "execution_count": 14,
   "id": "0acd966e-7890-4635-b855-d8991b95855a",
   "metadata": {},
   "outputs": [
    {
     "data": {
      "text/plain": [
       "{'key': 'Neeraj', 'email': 'neeraj@gmail.com', 'number': 8366491847}"
      ]
     },
     "execution_count": 14,
     "metadata": {},
     "output_type": "execute_result"
    }
   ],
   "source": [
    "d2"
   ]
  },
  {
   "cell_type": "code",
   "execution_count": 16,
   "id": "b052e717-189e-4f50-ae6c-f9d07fdea0fd",
   "metadata": {},
   "outputs": [],
   "source": [
    "d3 = {234:\"Neeraj\",\"@user\":\"prasad\", True :29346}            #special char are not allowed for key"
   ]
  },
  {
   "cell_type": "code",
   "execution_count": 17,
   "id": "edc12f36-0f3c-4e59-8fa6-cd332cc3a6e7",
   "metadata": {},
   "outputs": [
    {
     "data": {
      "text/plain": [
       "{234: 'Neeraj', '@user': 'prasad', True: 29346}"
      ]
     },
     "execution_count": 17,
     "metadata": {},
     "output_type": "execute_result"
    }
   ],
   "source": [
    "d3"
   ]
  },
  {
   "cell_type": "code",
   "execution_count": 21,
   "id": "80167c97-410e-4e57-9d17-0dd17944a8bd",
   "metadata": {},
   "outputs": [
    {
     "data": {
      "text/plain": [
       "'Neeraj'"
      ]
     },
     "execution_count": 21,
     "metadata": {},
     "output_type": "execute_result"
    }
   ],
   "source": [
    "d3[234]"
   ]
  },
  {
   "cell_type": "code",
   "execution_count": 22,
   "id": "e4c08e95-d89e-4e41-a574-3d1e3be8e538",
   "metadata": {},
   "outputs": [
    {
     "data": {
      "text/plain": [
       "29346"
      ]
     },
     "execution_count": 22,
     "metadata": {},
     "output_type": "execute_result"
    }
   ],
   "source": [
    "d3[True]"
   ]
  },
  {
   "cell_type": "code",
   "execution_count": 24,
   "id": "ccf3eff0-0222-4f9a-bfec-9e0ba3e1dbc5",
   "metadata": {},
   "outputs": [
    {
     "data": {
      "text/plain": [
       "29346"
      ]
     },
     "execution_count": 24,
     "metadata": {},
     "output_type": "execute_result"
    }
   ],
   "source": [
    "d3[1]"
   ]
  },
  {
   "cell_type": "code",
   "execution_count": 25,
   "id": "eef7acf4-6899-4957-a5b5-9cb4dda0e733",
   "metadata": {},
   "outputs": [],
   "source": [
    "d4 = {'name': \"Neeraj\",\"email\": \"neeraj@gmail.com\",\"name\":\"prasad\"}"
   ]
  },
  {
   "cell_type": "code",
   "execution_count": 26,
   "id": "f79ce4ce-7a6d-49df-aae4-9eae5f1d5210",
   "metadata": {},
   "outputs": [
    {
     "data": {
      "text/plain": [
       "'prasad'"
      ]
     },
     "execution_count": 26,
     "metadata": {},
     "output_type": "execute_result"
    }
   ],
   "source": [
    "d4[\"name\"]"
   ]
  },
  {
   "cell_type": "code",
   "execution_count": 27,
   "id": "1b7fab87-e0e8-4ad2-bbc1-23455da5edaa",
   "metadata": {},
   "outputs": [],
   "source": [
    "d5 = {\"company\":\"pwskills\",\"course\":[\"web dev\",\"data science\",\"java dsa\"]}"
   ]
  },
  {
   "cell_type": "code",
   "execution_count": 31,
   "id": "914db263-2732-4023-ac56-7fb957c5c92d",
   "metadata": {},
   "outputs": [
    {
     "data": {
      "text/plain": [
       "'java dsa'"
      ]
     },
     "execution_count": 31,
     "metadata": {},
     "output_type": "execute_result"
    }
   ],
   "source": [
    "d5[\"course\"][2]"
   ]
  },
  {
   "cell_type": "code",
   "execution_count": 38,
   "id": "3ae3d50d-5939-405f-a3bb-77ec1d92a366",
   "metadata": {},
   "outputs": [],
   "source": [
    "d6 = {\"number\":[2,34,57,97,],\"assigment\":(1,2,3,4,5,6), \"launch_date\":{28,12,23}, \"class_time\":{\"web_dev\":8,\"Data science\": 9,\"java dsa\":7}}"
   ]
  },
  {
   "cell_type": "code",
   "execution_count": 39,
   "id": "79d0b420-6da2-4a2a-af5e-8611c1d5a9f7",
   "metadata": {},
   "outputs": [
    {
     "data": {
      "text/plain": [
       "{'number': [2, 34, 57, 97],\n",
       " 'assigment': (1, 2, 3, 4, 5, 6),\n",
       " 'launch_date': {12, 23, 28},\n",
       " 'class_time': {'web_dev': 8, 'Data science': 9, 'java dsa': 7}}"
      ]
     },
     "execution_count": 39,
     "metadata": {},
     "output_type": "execute_result"
    }
   ],
   "source": [
    "d6"
   ]
  },
  {
   "cell_type": "code",
   "execution_count": 40,
   "id": "c56c926d-5f4a-4518-8753-24b30d130b20",
   "metadata": {},
   "outputs": [
    {
     "data": {
      "text/plain": [
       "7"
      ]
     },
     "execution_count": 40,
     "metadata": {},
     "output_type": "execute_result"
    }
   ],
   "source": [
    "d6[\"class_time\"]['java dsa']"
   ]
  },
  {
   "cell_type": "code",
   "execution_count": 41,
   "id": "f2404e35-fd03-4cf8-9a32-0de30e86039c",
   "metadata": {},
   "outputs": [
    {
     "data": {
      "text/plain": [
       "{'number': [2, 34, 57, 97],\n",
       " 'assigment': (1, 2, 3, 4, 5, 6),\n",
       " 'launch_date': {12, 23, 28},\n",
       " 'class_time': {'web_dev': 8, 'Data science': 9, 'java dsa': 7}}"
      ]
     },
     "execution_count": 41,
     "metadata": {},
     "output_type": "execute_result"
    }
   ],
   "source": [
    "d6"
   ]
  },
  {
   "cell_type": "code",
   "execution_count": 44,
   "id": "ad4eeda3-1a01-47ea-9670-f2da507359f6",
   "metadata": {},
   "outputs": [],
   "source": [
    "d6[\"mentor\"] = (\"neeraj\",\"kris\",\"haider\")"
   ]
  },
  {
   "cell_type": "code",
   "execution_count": 45,
   "id": "6b819746-88c7-4bdd-a9b8-3e5235f01474",
   "metadata": {},
   "outputs": [
    {
     "data": {
      "text/plain": [
       "{'number': [2, 34, 57, 97],\n",
       " 'assigment': (1, 2, 3, 4, 5, 6),\n",
       " 'launch_date': {12, 23, 28},\n",
       " 'class_time': {'web_dev': 8, 'Data science': 9, 'java dsa': 7},\n",
       " 'mentor': ('neeraj', 'kris', 'haider')}"
      ]
     },
     "execution_count": 45,
     "metadata": {},
     "output_type": "execute_result"
    }
   ],
   "source": [
    "d6"
   ]
  },
  {
   "cell_type": "code",
   "execution_count": 47,
   "id": "55dc0818-6eaf-4b0b-84e8-cd828c289e1a",
   "metadata": {},
   "outputs": [],
   "source": [
    "del d6[\"number\"]"
   ]
  },
  {
   "cell_type": "code",
   "execution_count": 48,
   "id": "582fcb33-f24f-475f-95c2-6af547220465",
   "metadata": {},
   "outputs": [
    {
     "data": {
      "text/plain": [
       "{'assigment': (1, 2, 3, 4, 5, 6),\n",
       " 'launch_date': {12, 23, 28},\n",
       " 'class_time': {'web_dev': 8, 'Data science': 9, 'java dsa': 7},\n",
       " 'mentor': ('neeraj', 'kris', 'haider')}"
      ]
     },
     "execution_count": 48,
     "metadata": {},
     "output_type": "execute_result"
    }
   ],
   "source": [
    "d6"
   ]
  },
  {
   "cell_type": "code",
   "execution_count": 50,
   "id": "d62fa93f-c2c9-46fe-8ca2-824648c877b5",
   "metadata": {},
   "outputs": [
    {
     "data": {
      "text/plain": [
       "dict_keys(['assigment', 'launch_date', 'class_time', 'mentor'])"
      ]
     },
     "execution_count": 50,
     "metadata": {},
     "output_type": "execute_result"
    }
   ],
   "source": [
    "d6.keys()"
   ]
  },
  {
   "cell_type": "code",
   "execution_count": 51,
   "id": "8d2d040c-ca8c-4f45-b224-c5b027fce2b8",
   "metadata": {},
   "outputs": [
    {
     "data": {
      "text/plain": [
       "['assigment', 'launch_date', 'class_time', 'mentor']"
      ]
     },
     "execution_count": 51,
     "metadata": {},
     "output_type": "execute_result"
    }
   ],
   "source": [
    "list(d6.keys())"
   ]
  },
  {
   "cell_type": "code",
   "execution_count": 52,
   "id": "250ace22-8a3c-44eb-8339-4f03365f1bdb",
   "metadata": {},
   "outputs": [
    {
     "data": {
      "text/plain": [
       "dict_values([(1, 2, 3, 4, 5, 6), {28, 12, 23}, {'web_dev': 8, 'Data science': 9, 'java dsa': 7}, ('neeraj', 'kris', 'haider')])"
      ]
     },
     "execution_count": 52,
     "metadata": {},
     "output_type": "execute_result"
    }
   ],
   "source": [
    "d6.values()"
   ]
  },
  {
   "cell_type": "code",
   "execution_count": 53,
   "id": "e9404060-2159-41b0-a08e-96fbf8f3b93e",
   "metadata": {},
   "outputs": [
    {
     "data": {
      "text/plain": [
       "[(1, 2, 3, 4, 5, 6),\n",
       " {12, 23, 28},\n",
       " {'web_dev': 8, 'Data science': 9, 'java dsa': 7},\n",
       " ('neeraj', 'kris', 'haider')]"
      ]
     },
     "execution_count": 53,
     "metadata": {},
     "output_type": "execute_result"
    }
   ],
   "source": [
    "list(d6.values())"
   ]
  },
  {
   "cell_type": "code",
   "execution_count": 55,
   "id": "7f296555-fb69-485d-999a-9ea703375972",
   "metadata": {},
   "outputs": [
    {
     "data": {
      "text/plain": [
       "dict_items([('assigment', (1, 2, 3, 4, 5, 6)), ('launch_date', {28, 12, 23}), ('class_time', {'web_dev': 8, 'Data science': 9, 'java dsa': 7}), ('mentor', ('neeraj', 'kris', 'haider'))])"
      ]
     },
     "execution_count": 55,
     "metadata": {},
     "output_type": "execute_result"
    }
   ],
   "source": [
    "d6.items()"
   ]
  },
  {
   "cell_type": "code",
   "execution_count": 56,
   "id": "02a509cd-8ed0-474a-aaea-c19679c89cac",
   "metadata": {},
   "outputs": [
    {
     "data": {
      "text/plain": [
       "[('assigment', (1, 2, 3, 4, 5, 6)),\n",
       " ('launch_date', {12, 23, 28}),\n",
       " ('class_time', {'web_dev': 8, 'Data science': 9, 'java dsa': 7}),\n",
       " ('mentor', ('neeraj', 'kris', 'haider'))]"
      ]
     },
     "execution_count": 56,
     "metadata": {},
     "output_type": "execute_result"
    }
   ],
   "source": [
    "list(d6.items())"
   ]
  },
  {
   "cell_type": "code",
   "execution_count": 57,
   "id": "fcd6361d-4b83-4119-8ccc-db5638e6ec85",
   "metadata": {},
   "outputs": [
    {
     "data": {
      "text/plain": [
       "(1, 2, 3, 4, 5, 6)"
      ]
     },
     "execution_count": 57,
     "metadata": {},
     "output_type": "execute_result"
    }
   ],
   "source": [
    "d6.pop(\"assigment\")"
   ]
  },
  {
   "cell_type": "code",
   "execution_count": 58,
   "id": "5ad06cda-c8b5-42ca-9aac-ff264823e35d",
   "metadata": {},
   "outputs": [
    {
     "data": {
      "text/plain": [
       "{'launch_date': {12, 23, 28},\n",
       " 'class_time': {'web_dev': 8, 'Data science': 9, 'java dsa': 7},\n",
       " 'mentor': ('neeraj', 'kris', 'haider')}"
      ]
     },
     "execution_count": 58,
     "metadata": {},
     "output_type": "execute_result"
    }
   ],
   "source": [
    "d6"
   ]
  },
  {
   "cell_type": "code",
   "execution_count": 59,
   "id": "7086d786-e9da-4635-9072-cf412a64127b",
   "metadata": {},
   "outputs": [
    {
     "ename": "TypeError",
     "evalue": "pop expected at least 1 argument, got 0",
     "output_type": "error",
     "traceback": [
      "\u001b[0;31m---------------------------------------------------------------------------\u001b[0m",
      "\u001b[0;31mTypeError\u001b[0m                                 Traceback (most recent call last)",
      "Cell \u001b[0;32mIn[59], line 1\u001b[0m\n\u001b[0;32m----> 1\u001b[0m \u001b[43md6\u001b[49m\u001b[38;5;241;43m.\u001b[39;49m\u001b[43mpop\u001b[49m\u001b[43m(\u001b[49m\u001b[43m)\u001b[49m\n",
      "\u001b[0;31mTypeError\u001b[0m: pop expected at least 1 argument, got 0"
     ]
    }
   ],
   "source": [
    "d6.pop()"
   ]
  },
  {
   "cell_type": "code",
   "execution_count": null,
   "id": "c56d5e58-533f-49ed-b855-b51bf90ee64b",
   "metadata": {},
   "outputs": [],
   "source": []
  }
 ],
 "metadata": {
  "kernelspec": {
   "display_name": "Python 3 (ipykernel)",
   "language": "python",
   "name": "python3"
  },
  "language_info": {
   "codemirror_mode": {
    "name": "ipython",
    "version": 3
   },
   "file_extension": ".py",
   "mimetype": "text/x-python",
   "name": "python",
   "nbconvert_exporter": "python",
   "pygments_lexer": "ipython3",
   "version": "3.10.8"
  }
 },
 "nbformat": 4,
 "nbformat_minor": 5
}
