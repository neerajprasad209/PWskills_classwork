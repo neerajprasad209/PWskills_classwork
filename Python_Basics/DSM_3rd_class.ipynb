{
 "cells": [
  {
   "cell_type": "code",
   "execution_count": 4,
   "id": "350c4e5f-48a5-4a5b-9285-90a2acd8df41",
   "metadata": {},
   "outputs": [],
   "source": [
    "#dicitonary"
   ]
  },
  {
   "cell_type": "code",
   "execution_count": 7,
   "id": "aa1f9351-3f29-445a-9489-a57263dcec4e",
   "metadata": {},
   "outputs": [],
   "source": [
    "d ={}"
   ]
  },
  {
   "cell_type": "code",
   "execution_count": 8,
   "id": "d14cd7a1-bc2a-4583-ad63-4811addf33f0",
   "metadata": {},
   "outputs": [
    {
     "data": {
      "text/plain": [
       "dict"
      ]
     },
     "execution_count": 8,
     "metadata": {},
     "output_type": "execute_result"
    }
   ],
   "source": [
    "type(d)"
   ]
  },
  {
   "cell_type": "code",
   "execution_count": 9,
   "id": "a258db18-75f2-46d4-8d4f-b4038d4e1555",
   "metadata": {},
   "outputs": [],
   "source": [
    "d1={'key':\"neeraj\"}"
   ]
  },
  {
   "cell_type": "code",
   "execution_count": 10,
   "id": "187a1938-d500-44ba-80eb-cd126724f7df",
   "metadata": {},
   "outputs": [
    {
     "data": {
      "text/plain": [
       "{'key': 'neeraj'}"
      ]
     },
     "execution_count": 10,
     "metadata": {},
     "output_type": "execute_result"
    }
   ],
   "source": [
    "d1"
   ]
  },
  {
   "cell_type": "code",
   "execution_count": 11,
   "id": "5bc84f13-a1d5-48a4-8370-fc40ea56dd14",
   "metadata": {},
   "outputs": [],
   "source": [
    "d2 ={'name':\"neeraj\", \"sub\":\"DSM\", \"age\":23}"
   ]
  },
  {
   "cell_type": "code",
   "execution_count": 12,
   "id": "8dca50fb-625f-4a04-8aa0-187adbe048ff",
   "metadata": {},
   "outputs": [
    {
     "data": {
      "text/plain": [
       "{'name': 'neeraj', 'sub': 'DSM', 'age': 23}"
      ]
     },
     "execution_count": 12,
     "metadata": {},
     "output_type": "execute_result"
    }
   ],
   "source": [
    "d2"
   ]
  },
  {
   "cell_type": "code",
   "execution_count": 15,
   "id": "306c06eb-ace4-46cd-a49c-e1d82193e002",
   "metadata": {},
   "outputs": [],
   "source": [
    "d3 ={253: \"Neeraj\", True: \"shd\"}"
   ]
  },
  {
   "cell_type": "code",
   "execution_count": 16,
   "id": "24adff7e-45bd-4fb1-b174-5a6fd4e0998b",
   "metadata": {},
   "outputs": [
    {
     "data": {
      "text/plain": [
       "{253: 'Neeraj', True: 'shd'}"
      ]
     },
     "execution_count": 16,
     "metadata": {},
     "output_type": "execute_result"
    }
   ],
   "source": [
    "d3"
   ]
  },
  {
   "cell_type": "code",
   "execution_count": 23,
   "id": "6f9486b4-5961-41a6-bf02-4a2ba9b8118c",
   "metadata": {},
   "outputs": [
    {
     "data": {
      "text/plain": [
       "'shd'"
      ]
     },
     "execution_count": 23,
     "metadata": {},
     "output_type": "execute_result"
    }
   ],
   "source": [
    "d3[1]"
   ]
  },
  {
   "cell_type": "code",
   "execution_count": 24,
   "id": "f2291639-a75c-42bd-aae5-6e116b2e5a45",
   "metadata": {},
   "outputs": [],
   "source": [
    "d4 ={'name':\"neeraj\", \"sub\":\"DSM\", \"name\":\"prasad\"}"
   ]
  },
  {
   "cell_type": "code",
   "execution_count": 26,
   "id": "780c843a-489e-47c7-99f3-edfa867196d9",
   "metadata": {},
   "outputs": [
    {
     "data": {
      "text/plain": [
       "'prasad'"
      ]
     },
     "execution_count": 26,
     "metadata": {},
     "output_type": "execute_result"
    }
   ],
   "source": [
    "d4[\"name\"]"
   ]
  },
  {
   "cell_type": "code",
   "execution_count": 27,
   "id": "fb3c4ebd-5d50-4f5a-ba6d-d828cd416a0a",
   "metadata": {},
   "outputs": [],
   "source": [
    "d5={ 'company':'pwskills', \"course\":[\"web dev\",\"DSM\",\"java with dsa\"]}"
   ]
  },
  {
   "cell_type": "code",
   "execution_count": 28,
   "id": "f9a4e450-0650-4ff2-919a-dd137bf81b19",
   "metadata": {},
   "outputs": [
    {
     "data": {
      "text/plain": [
       "{'company': 'pwskills', 'course': ['web dev', 'DSM', 'java with dsa']}"
      ]
     },
     "execution_count": 28,
     "metadata": {},
     "output_type": "execute_result"
    }
   ],
   "source": [
    "d5"
   ]
  },
  {
   "cell_type": "code",
   "execution_count": 29,
   "id": "25fba487-7754-4bc7-a4a3-25f26f73038c",
   "metadata": {},
   "outputs": [
    {
     "data": {
      "text/plain": [
       "['web dev', 'DSM', 'java with dsa']"
      ]
     },
     "execution_count": 29,
     "metadata": {},
     "output_type": "execute_result"
    }
   ],
   "source": [
    "d5['course']"
   ]
  },
  {
   "cell_type": "code",
   "execution_count": 30,
   "id": "733cf130-f4f5-4bf2-aa65-ae40bcfd081a",
   "metadata": {},
   "outputs": [
    {
     "data": {
      "text/plain": [
       "'java with dsa'"
      ]
     },
     "execution_count": 30,
     "metadata": {},
     "output_type": "execute_result"
    }
   ],
   "source": [
    "d5['course'][2]"
   ]
  },
  {
   "cell_type": "code",
   "execution_count": 33,
   "id": "879ba7de-fe63-482d-b33f-624fd7563afd",
   "metadata": {},
   "outputs": [],
   "source": [
    "d6={\"number\":[2,4,6,3,9,5], \"assigment\":(1,4,6,7,4,6),\"launch_date\":{27,16,24,}, \"class_time\":{\"web dev\":8,\"DSM\":3,\"java with dsa\":5}}"
   ]
  },
  {
   "cell_type": "code",
   "execution_count": 34,
   "id": "9477a55d-5a98-46ec-9285-4272737569fb",
   "metadata": {},
   "outputs": [
    {
     "data": {
      "text/plain": [
       "{'number': [2, 4, 6, 3, 9, 5],\n",
       " 'assigment': (1, 4, 6, 7, 4, 6),\n",
       " 'launch_date': {16, 24, 27},\n",
       " 'class_time': {'web dev': 8, 'DSM': 3, 'java with dsa': 5}}"
      ]
     },
     "execution_count": 34,
     "metadata": {},
     "output_type": "execute_result"
    }
   ],
   "source": [
    "d6"
   ]
  },
  {
   "cell_type": "code",
   "execution_count": 35,
   "id": "fc4d4493-6b0c-47e7-b4b8-74c3ef428391",
   "metadata": {},
   "outputs": [
    {
     "data": {
      "text/plain": [
       "{'web dev': 8, 'DSM': 3, 'java with dsa': 5}"
      ]
     },
     "execution_count": 35,
     "metadata": {},
     "output_type": "execute_result"
    }
   ],
   "source": [
    "d6[\"class_time\"]"
   ]
  },
  {
   "cell_type": "code",
   "execution_count": 38,
   "id": "4742095f-3385-42a0-8e08-aee7715b5b36",
   "metadata": {},
   "outputs": [
    {
     "data": {
      "text/plain": [
       "5"
      ]
     },
     "execution_count": 38,
     "metadata": {},
     "output_type": "execute_result"
    }
   ],
   "source": [
    "d6[\"class_time\"]['java with dsa']"
   ]
  },
  {
   "cell_type": "code",
   "execution_count": 39,
   "id": "a74022c8-c8e0-43d5-91f4-586a91306ec4",
   "metadata": {},
   "outputs": [],
   "source": [
    "d6['mentor']=['sudhanshu','kris','anurag']"
   ]
  },
  {
   "cell_type": "code",
   "execution_count": 40,
   "id": "327c9b46-25e9-4c7e-a1f6-a07a3116fe44",
   "metadata": {},
   "outputs": [
    {
     "data": {
      "text/plain": [
       "{'number': [2, 4, 6, 3, 9, 5],\n",
       " 'assigment': (1, 4, 6, 7, 4, 6),\n",
       " 'launch_date': {16, 24, 27},\n",
       " 'class_time': {'web dev': 8, 'DSM': 3, 'java with dsa': 5},\n",
       " 'mentor': ['sudhanshu', 'kris', 'anurag']}"
      ]
     },
     "execution_count": 40,
     "metadata": {},
     "output_type": "execute_result"
    }
   ],
   "source": [
    "d6"
   ]
  },
  {
   "cell_type": "code",
   "execution_count": 42,
   "id": "acc33739-bf56-41ba-867d-4bee60109eaa",
   "metadata": {},
   "outputs": [],
   "source": [
    "del d6['mentor']"
   ]
  },
  {
   "cell_type": "code",
   "execution_count": 43,
   "id": "9c526b28-280c-4641-b7cd-a4001457bf24",
   "metadata": {},
   "outputs": [
    {
     "data": {
      "text/plain": [
       "{'number': [2, 4, 6, 3, 9, 5],\n",
       " 'assigment': (1, 4, 6, 7, 4, 6),\n",
       " 'launch_date': {16, 24, 27},\n",
       " 'class_time': {'web dev': 8, 'DSM': 3, 'java with dsa': 5}}"
      ]
     },
     "execution_count": 43,
     "metadata": {},
     "output_type": "execute_result"
    }
   ],
   "source": [
    "d6"
   ]
  },
  {
   "cell_type": "code",
   "execution_count": 44,
   "id": "d046e778-8a98-4f5b-b4ae-efc82fdc3e57",
   "metadata": {},
   "outputs": [
    {
     "data": {
      "text/plain": [
       "dict_keys(['number', 'assigment', 'launch_date', 'class_time'])"
      ]
     },
     "execution_count": 44,
     "metadata": {},
     "output_type": "execute_result"
    }
   ],
   "source": [
    "d6.keys()"
   ]
  },
  {
   "cell_type": "code",
   "execution_count": 45,
   "id": "6b86d5b5-38bc-4397-b9b3-206dbb129e4f",
   "metadata": {},
   "outputs": [
    {
     "data": {
      "text/plain": [
       "['number', 'assigment', 'launch_date', 'class_time']"
      ]
     },
     "execution_count": 45,
     "metadata": {},
     "output_type": "execute_result"
    }
   ],
   "source": [
    "list(d6.keys())"
   ]
  },
  {
   "cell_type": "code",
   "execution_count": 46,
   "id": "e42c8e0e-bf06-48b8-9528-6fa557b93595",
   "metadata": {},
   "outputs": [
    {
     "data": {
      "text/plain": [
       "dict_values([[2, 4, 6, 3, 9, 5], (1, 4, 6, 7, 4, 6), {16, 24, 27}, {'web dev': 8, 'DSM': 3, 'java with dsa': 5}])"
      ]
     },
     "execution_count": 46,
     "metadata": {},
     "output_type": "execute_result"
    }
   ],
   "source": [
    "d6.values()"
   ]
  },
  {
   "cell_type": "code",
   "execution_count": 48,
   "id": "32fe3d56-b9ed-4e70-8641-c6052a807410",
   "metadata": {},
   "outputs": [
    {
     "data": {
      "text/plain": [
       "[('number', [2, 4, 6, 3, 9, 5]),\n",
       " ('assigment', (1, 4, 6, 7, 4, 6)),\n",
       " ('launch_date', {16, 24, 27}),\n",
       " ('class_time', {'web dev': 8, 'DSM': 3, 'java with dsa': 5})]"
      ]
     },
     "execution_count": 48,
     "metadata": {},
     "output_type": "execute_result"
    }
   ],
   "source": [
    "list(d6.items())"
   ]
  },
  {
   "cell_type": "code",
   "execution_count": 57,
   "id": "24d80501-6ca6-42a9-9522-49e4b0bfa032",
   "metadata": {},
   "outputs": [
    {
     "name": "stdin",
     "output_type": "stream",
     "text": [
      "Enter your salary 450000\n"
     ]
    },
    {
     "name": "stdout",
     "output_type": "stream",
     "text": [
      "450000\n",
      "go on local trip\n"
     ]
    }
   ],
   "source": [
    "salary =int(input('Enter your salary'))\n",
    "print(salary)\n",
    "\n",
    "if salary >= 800000:\n",
    "    print(\"go on a international  trip\")\n",
    "elif salary >= 600000 and  salary <800000:\n",
    "    print(\"go on domastic trip\")\n",
    "elif salary >= 400000 and salary < 600000:\n",
    "    print(\"go on local trip\")\n",
    "else :\n",
    "    print(\"work hard\")"
   ]
  },
  {
   "cell_type": "code",
   "execution_count": 60,
   "id": "08b9896f-0c85-44e5-ab3b-a80a379ec3f7",
   "metadata": {},
   "outputs": [
    {
     "name": "stdin",
     "output_type": "stream",
     "text": [
      "Enter price 200\n"
     ]
    },
    {
     "name": "stdout",
     "output_type": "stream",
     "text": [
      "200\n",
      "i will purchase\n"
     ]
    }
   ],
   "source": [
    "price=int(input('Enter price'))\n",
    "print(price)\n",
    "if price >1000:\n",
    "    print('i will not purchase')\n",
    "else :\n",
    "    print('i will purchase')"
   ]
  },
  {
   "cell_type": "code",
   "execution_count": 62,
   "id": "f8c422da-46bc-4328-a88b-5daec46453e8",
   "metadata": {},
   "outputs": [
    {
     "name": "stdin",
     "output_type": "stream",
     "text": [
      "Enter price 7000\n"
     ]
    },
    {
     "name": "stdout",
     "output_type": "stream",
     "text": [
      "7000\n",
      "i will not purchase\n",
      "too much\n"
     ]
    }
   ],
   "source": [
    "price=int(input('Enter price'))\n",
    "print(price)\n",
    "\n",
    "if price >1000:\n",
    "    print('i will not purchase')\n",
    "    if price >5000:\n",
    "        print('too much')   \n",
    "    "
   ]
  },
  {
   "cell_type": "code",
   "execution_count": 1,
   "id": "d0ca832f-364c-4792-bbc1-dad0b6fbcd65",
   "metadata": {},
   "outputs": [],
   "source": [
    "l=[1,2,3,4,5,6,7,8]"
   ]
  },
  {
   "cell_type": "code",
   "execution_count": 2,
   "id": "2b430098-15f3-4d24-8197-2002a49c698d",
   "metadata": {},
   "outputs": [
    {
     "name": "stdout",
     "output_type": "stream",
     "text": [
      "1\n",
      "2\n",
      "3\n",
      "4\n",
      "5\n",
      "6\n",
      "7\n",
      "8\n"
     ]
    }
   ],
   "source": [
    "for i in l:\n",
    "    print(i)"
   ]
  },
  {
   "cell_type": "code",
   "execution_count": 6,
   "id": "4956182e-9162-44be-82fa-8ee57975e53f",
   "metadata": {},
   "outputs": [
    {
     "name": "stdout",
     "output_type": "stream",
     "text": [
      "2\n",
      "3\n",
      "4\n",
      "5\n",
      "6\n",
      "7\n",
      "8\n",
      "9\n"
     ]
    }
   ],
   "source": [
    "l1=[]\n",
    "for i in l:\n",
    "    l1 = (i+1)\n",
    "    print(l1)"
   ]
  },
  {
   "cell_type": "code",
   "execution_count": 7,
   "id": "bd9d2053-09a4-4ef1-94b9-20a3c5598cfb",
   "metadata": {},
   "outputs": [],
   "source": [
    "l1=[]\n",
    "for i in l:\n",
    "    l1.append(i+1)"
   ]
  },
  {
   "cell_type": "code",
   "execution_count": 8,
   "id": "293cc90e-6b3a-4f2d-8cf4-9d2de46abb04",
   "metadata": {},
   "outputs": [
    {
     "data": {
      "text/plain": [
       "[2, 3, 4, 5, 6, 7, 8, 9]"
      ]
     },
     "execution_count": 8,
     "metadata": {},
     "output_type": "execute_result"
    }
   ],
   "source": [
    "l1"
   ]
  },
  {
   "cell_type": "code",
   "execution_count": 10,
   "id": "6d0581a7-8ea5-4d8b-bc73-72513a9f2290",
   "metadata": {},
   "outputs": [],
   "source": [
    "l=[\"Neeraj\",'kumar','pwskills','course']"
   ]
  },
  {
   "cell_type": "code",
   "execution_count": 13,
   "id": "b99e41c2-7127-46bf-8728-a011fe2564c2",
   "metadata": {},
   "outputs": [
    {
     "name": "stdout",
     "output_type": "stream",
     "text": [
      "Neeraj\n",
      "kumar\n",
      "pwskills\n",
      "course\n"
     ]
    }
   ],
   "source": [
    "l1 =[]\n",
    "for i in l:\n",
    "    print(i)\n",
    "    l1.append(i.upper())"
   ]
  },
  {
   "cell_type": "code",
   "execution_count": 14,
   "id": "749566d1-095b-4c2a-b5f8-5b022999cc7e",
   "metadata": {},
   "outputs": [
    {
     "data": {
      "text/plain": [
       "['NEERAJ', 'KUMAR', 'PWSKILLS', 'COURSE']"
      ]
     },
     "execution_count": 14,
     "metadata": {},
     "output_type": "execute_result"
    }
   ],
   "source": [
    "l1"
   ]
  },
  {
   "cell_type": "code",
   "execution_count": 17,
   "id": "8a3ed4de-9469-459d-98e1-aaf2a246d6f5",
   "metadata": {},
   "outputs": [
    {
     "name": "stdout",
     "output_type": "stream",
     "text": [
      "NEERAJ\n",
      "KUMAR\n",
      "PWSKILLS\n",
      "COURSE\n"
     ]
    }
   ],
   "source": [
    "l1 =[]\n",
    "for i in l:\n",
    "    l1 = i.upper()\n",
    "    print(l1)\n"
   ]
  },
  {
   "cell_type": "code",
   "execution_count": 23,
   "id": "aca192a5-9fe1-432f-b949-5ea1465db93c",
   "metadata": {},
   "outputs": [],
   "source": [
    "l=[1,2,3,4,\"neeraj\",\"Prasad\",23.4566]"
   ]
  },
  {
   "cell_type": "code",
   "execution_count": 29,
   "id": "1b7aa81a-33cb-421e-9f4c-eef5071f0e1d",
   "metadata": {},
   "outputs": [],
   "source": [
    "l1_num=[]\n",
    "l2_str=[]\n",
    "for i in l :\n",
    "    if type(i)== int or type(i)== float:\n",
    "        l1_num.append(i)\n",
    "    else :\n",
    "        l2_str.append(i)"
   ]
  },
  {
   "cell_type": "code",
   "execution_count": 30,
   "id": "b17b5ea8-c9c7-4c87-aeb1-1f499b6f282d",
   "metadata": {},
   "outputs": [
    {
     "data": {
      "text/plain": [
       "[1, 2, 3, 4, 23.4566]"
      ]
     },
     "execution_count": 30,
     "metadata": {},
     "output_type": "execute_result"
    }
   ],
   "source": [
    "l1_num"
   ]
  },
  {
   "cell_type": "code",
   "execution_count": 31,
   "id": "5e87b748-36ad-4788-83b6-d7a16ae4023e",
   "metadata": {},
   "outputs": [
    {
     "data": {
      "text/plain": [
       "['neeraj', 'Prasad']"
      ]
     },
     "execution_count": 31,
     "metadata": {},
     "output_type": "execute_result"
    }
   ],
   "source": [
    "l2_str"
   ]
  },
  {
   "cell_type": "code",
   "execution_count": null,
   "id": "fda7c6c7-be54-4405-a042-e1e667cb3539",
   "metadata": {},
   "outputs": [],
   "source": []
  }
 ],
 "metadata": {
  "kernelspec": {
   "display_name": "Python 3 (ipykernel)",
   "language": "python",
   "name": "python3"
  },
  "language_info": {
   "codemirror_mode": {
    "name": "ipython",
    "version": 3
   },
   "file_extension": ".py",
   "mimetype": "text/x-python",
   "name": "python",
   "nbconvert_exporter": "python",
   "pygments_lexer": "ipython3",
   "version": "3.10.8"
  }
 },
 "nbformat": 4,
 "nbformat_minor": 5
}
