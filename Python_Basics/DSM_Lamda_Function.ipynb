{
 "cells": [
  {
   "cell_type": "markdown",
   "id": "d8ffec0f-e1f4-4626-a71a-e4ce96cdc14f",
   "metadata": {},
   "source": [
    "# Lamda Function"
   ]
  },
  {
   "cell_type": "code",
   "execution_count": 2,
   "id": "608effc8-cea4-4816-91e6-d3eaa306d819",
   "metadata": {},
   "outputs": [],
   "source": [
    "n= 3\n",
    "p= 2"
   ]
  },
  {
   "cell_type": "code",
   "execution_count": 3,
   "id": "f8a81490-80bf-43c8-b1e7-91b1ff48165e",
   "metadata": {},
   "outputs": [],
   "source": [
    "def test(n,p):\n",
    "    return n**p"
   ]
  },
  {
   "cell_type": "code",
   "execution_count": 4,
   "id": "def6e36e-8f70-4332-beca-0436c52581f7",
   "metadata": {},
   "outputs": [
    {
     "data": {
      "text/plain": [
       "9"
      ]
     },
     "execution_count": 4,
     "metadata": {},
     "output_type": "execute_result"
    }
   ],
   "source": [
    "test(3,2)"
   ]
  },
  {
   "cell_type": "markdown",
   "id": "f5c68eae-4e76-4e14-be15-d6f5c4485874",
   "metadata": {},
   "source": [
    "# Lamda Function\n",
    "* one line function \n",
    "* anyonumus Function"
   ]
  },
  {
   "cell_type": "code",
   "execution_count": 6,
   "id": "2929d40e-26e3-4dc9-a22d-ee1539b5bf61",
   "metadata": {},
   "outputs": [],
   "source": [
    "a = lambda n , p :n**p"
   ]
  },
  {
   "cell_type": "code",
   "execution_count": 9,
   "id": "066647db-22a6-486f-ae05-61ab5cf6984c",
   "metadata": {},
   "outputs": [
    {
     "data": {
      "text/plain": [
       "9"
      ]
     },
     "execution_count": 9,
     "metadata": {},
     "output_type": "execute_result"
    }
   ],
   "source": [
    "a(3,2)"
   ]
  },
  {
   "cell_type": "code",
   "execution_count": 10,
   "id": "2ade5293-0010-4b2f-86c3-323e716abc0d",
   "metadata": {},
   "outputs": [],
   "source": [
    "add = lambda x,y: x+y"
   ]
  },
  {
   "cell_type": "code",
   "execution_count": 11,
   "id": "47f84254-c723-40c4-a6d3-50350adf3c10",
   "metadata": {},
   "outputs": [
    {
     "data": {
      "text/plain": [
       "9"
      ]
     },
     "execution_count": 11,
     "metadata": {},
     "output_type": "execute_result"
    }
   ],
   "source": [
    "add(4,5)"
   ]
  },
  {
   "cell_type": "code",
   "execution_count": 12,
   "id": "1f4903d8-a162-45bd-9e97-95589a7ca780",
   "metadata": {},
   "outputs": [],
   "source": [
    "c_to_f = lambda c: (9/5)*c +32"
   ]
  },
  {
   "cell_type": "code",
   "execution_count": 13,
   "id": "e08532e1-f793-42e0-8636-afe82d90405c",
   "metadata": {},
   "outputs": [
    {
     "data": {
      "text/plain": [
       "113.0"
      ]
     },
     "execution_count": 13,
     "metadata": {},
     "output_type": "execute_result"
    }
   ],
   "source": [
    "c_to_f(45)"
   ]
  },
  {
   "cell_type": "code",
   "execution_count": 15,
   "id": "876358c7-3744-49cf-bc0e-22e3c6696a00",
   "metadata": {},
   "outputs": [],
   "source": [
    "find_max = lambda x,y: x if x>y else y"
   ]
  },
  {
   "cell_type": "code",
   "execution_count": 17,
   "id": "8a05fc30-3bbe-45a8-bc6c-cd109e2599f7",
   "metadata": {},
   "outputs": [
    {
     "data": {
      "text/plain": [
       "36"
      ]
     },
     "execution_count": 17,
     "metadata": {},
     "output_type": "execute_result"
    }
   ],
   "source": [
    "find_max(9,36)"
   ]
  },
  {
   "cell_type": "code",
   "execution_count": 25,
   "id": "e919550c-7ce2-46a6-9834-28366e5a26e6",
   "metadata": {},
   "outputs": [],
   "source": [
    "s = \"pwskills\"\n",
    "Length = lambda s1 : len(s)"
   ]
  },
  {
   "cell_type": "code",
   "execution_count": 26,
   "id": "9c5bdd7d-52c7-49ba-a189-25c2c76d5413",
   "metadata": {},
   "outputs": [
    {
     "data": {
      "text/plain": [
       "8"
      ]
     },
     "execution_count": 26,
     "metadata": {},
     "output_type": "execute_result"
    }
   ],
   "source": [
    "Length(s)"
   ]
  },
  {
   "cell_type": "code",
   "execution_count": null,
   "id": "db51a4c2-b5bc-46ca-909f-40a2cf270317",
   "metadata": {},
   "outputs": [],
   "source": []
  }
 ],
 "metadata": {
  "kernelspec": {
   "display_name": "Python 3 (ipykernel)",
   "language": "python",
   "name": "python3"
  },
  "language_info": {
   "codemirror_mode": {
    "name": "ipython",
    "version": 3
   },
   "file_extension": ".py",
   "mimetype": "text/x-python",
   "name": "python",
   "nbconvert_exporter": "python",
   "pygments_lexer": "ipython3",
   "version": "3.10.8"
  }
 },
 "nbformat": 4,
 "nbformat_minor": 5
}
