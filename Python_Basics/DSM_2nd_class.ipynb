{
 "cells": [
  {
   "cell_type": "code",
   "execution_count": 9,
   "id": "ffcf37fa-4d9d-4210-ad38-2637f46f1316",
   "metadata": {},
   "outputs": [],
   "source": [
    "l = [1,38,384,78,\"neeraj\",56,98,True,5+1j,45.78]"
   ]
  },
  {
   "cell_type": "code",
   "execution_count": 4,
   "id": "e64a97ad-bec5-4273-9748-59a7debd7908",
   "metadata": {},
   "outputs": [
    {
     "data": {
      "text/plain": [
       "list"
      ]
     },
     "execution_count": 4,
     "metadata": {},
     "output_type": "execute_result"
    }
   ],
   "source": [
    "type(l)"
   ]
  },
  {
   "cell_type": "code",
   "execution_count": 10,
   "id": "6b31744a-b031-4b60-8809-a58726e276aa",
   "metadata": {},
   "outputs": [
    {
     "data": {
      "text/plain": [
       "'neeraj'"
      ]
     },
     "execution_count": 10,
     "metadata": {},
     "output_type": "execute_result"
    }
   ],
   "source": [
    "l[4] #error when list out of index"
   ]
  },
  {
   "cell_type": "code",
   "execution_count": 11,
   "id": "3be00f42-acf9-446e-ab57-5f8b478a3ab6",
   "metadata": {},
   "outputs": [
    {
     "data": {
      "text/plain": [
       "[1, 38, 384, 78, 'neeraj', 56, 98, True, (5+1j), 45.78]"
      ]
     },
     "execution_count": 11,
     "metadata": {},
     "output_type": "execute_result"
    }
   ],
   "source": [
    "l"
   ]
  },
  {
   "cell_type": "code",
   "execution_count": 12,
   "id": "303353b6-3846-474f-8abb-279950c8b908",
   "metadata": {},
   "outputs": [
    {
     "data": {
      "text/plain": [
       "[1, 38, 384]"
      ]
     },
     "execution_count": 12,
     "metadata": {},
     "output_type": "execute_result"
    }
   ],
   "source": [
    "l[0:3]"
   ]
  },
  {
   "cell_type": "code",
   "execution_count": 15,
   "id": "d5de9bb9-8a90-4d02-a9ab-74cb5e477083",
   "metadata": {},
   "outputs": [
    {
     "data": {
      "text/plain": [
       "[45.78, (5+1j), True, 98, 56, 'neeraj', 78, 384, 38, 1]"
      ]
     },
     "execution_count": 15,
     "metadata": {},
     "output_type": "execute_result"
    }
   ],
   "source": [
    "l[::-1]"
   ]
  },
  {
   "cell_type": "code",
   "execution_count": 17,
   "id": "17930944-fe9e-445f-be51-46e1aefa17ea",
   "metadata": {},
   "outputs": [
    {
     "data": {
      "text/plain": [
       "[1, 384, 'neeraj', 98, (5+1j)]"
      ]
     },
     "execution_count": 17,
     "metadata": {},
     "output_type": "execute_result"
    }
   ],
   "source": [
    "l[::2] #jump"
   ]
  },
  {
   "cell_type": "code",
   "execution_count": 18,
   "id": "30a0a1fc-7b74-4d83-bbdd-1a9d059a16e7",
   "metadata": {},
   "outputs": [],
   "source": [
    "s = \"pwskills\""
   ]
  },
  {
   "cell_type": "code",
   "execution_count": 19,
   "id": "1fe83daa-eb24-4aa5-b0ad-015d8752d925",
   "metadata": {},
   "outputs": [
    {
     "ename": "TypeError",
     "evalue": "can only concatenate list (not \"str\") to list",
     "output_type": "error",
     "traceback": [
      "\u001b[0;31m---------------------------------------------------------------------------\u001b[0m",
      "\u001b[0;31mTypeError\u001b[0m                                 Traceback (most recent call last)",
      "Cell \u001b[0;32mIn[19], line 1\u001b[0m\n\u001b[0;32m----> 1\u001b[0m \u001b[43ml\u001b[49m\u001b[38;5;241;43m+\u001b[39;49m\u001b[43ms\u001b[49m\n",
      "\u001b[0;31mTypeError\u001b[0m: can only concatenate list (not \"str\") to list"
     ]
    }
   ],
   "source": [
    "l+s"
   ]
  },
  {
   "cell_type": "code",
   "execution_count": 21,
   "id": "2b4ea15f-c7a3-4261-926c-69540f54a2d9",
   "metadata": {},
   "outputs": [
    {
     "data": {
      "text/plain": [
       "[1, 38, 384, 78, 'neeraj', 56, 98, True, (5+1j), 45.78]"
      ]
     },
     "execution_count": 21,
     "metadata": {},
     "output_type": "execute_result"
    }
   ],
   "source": [
    "l"
   ]
  },
  {
   "cell_type": "code",
   "execution_count": 22,
   "id": "6bf9de30-907a-41f1-a057-6f3e443bc81c",
   "metadata": {},
   "outputs": [
    {
     "data": {
      "text/plain": [
       "'neeraj'"
      ]
     },
     "execution_count": 22,
     "metadata": {},
     "output_type": "execute_result"
    }
   ],
   "source": [
    "l[4]"
   ]
  },
  {
   "cell_type": "code",
   "execution_count": 26,
   "id": "ac3615fb-65f4-486e-95ce-cf401d562ca6",
   "metadata": {},
   "outputs": [
    {
     "data": {
      "text/plain": [
       "'ne'"
      ]
     },
     "execution_count": 26,
     "metadata": {},
     "output_type": "execute_result"
    }
   ],
   "source": [
    "l[4][0:2] #slicing inside list "
   ]
  },
  {
   "cell_type": "code",
   "execution_count": 28,
   "id": "cf6b9eda-ecb0-43c6-8e6a-765c7b6f6245",
   "metadata": {},
   "outputs": [
    {
     "data": {
      "text/plain": [
       "True"
      ]
     },
     "execution_count": 28,
     "metadata": {},
     "output_type": "execute_result"
    }
   ],
   "source": [
    "l[7]"
   ]
  },
  {
   "cell_type": "code",
   "execution_count": 34,
   "id": "c3cbcb43-b05c-40ab-8bbb-a5f67ae73c2b",
   "metadata": {},
   "outputs": [
    {
     "data": {
      "text/plain": [
       "'Tr'"
      ]
     },
     "execution_count": 34,
     "metadata": {},
     "output_type": "execute_result"
    }
   ],
   "source": [
    "str(l[7])[0:2] #typecasting boolean value "
   ]
  },
  {
   "cell_type": "code",
   "execution_count": 42,
   "id": "96e44c2f-9ebb-478e-9288-7186b74eaea5",
   "metadata": {},
   "outputs": [],
   "source": [
    "l1=[3,4,5] "
   ]
  },
  {
   "cell_type": "code",
   "execution_count": 43,
   "id": "081479c5-fa4e-40fe-83b6-fafebe091f51",
   "metadata": {},
   "outputs": [
    {
     "data": {
      "text/plain": [
       "[1, 38, 384, 78, 'neeraj', 56, 98, True, (5+1j), 45.78, 3, 4, 5]"
      ]
     },
     "execution_count": 43,
     "metadata": {},
     "output_type": "execute_result"
    }
   ],
   "source": [
    "l+l1 #merging list into list"
   ]
  },
  {
   "cell_type": "code",
   "execution_count": 46,
   "id": "3a521bd4-ff25-4134-847d-08397e4ddfda",
   "metadata": {},
   "outputs": [
    {
     "data": {
      "text/plain": [
       "[3, 4, 5, 3, 4, 5, 3, 4, 5]"
      ]
     },
     "execution_count": 46,
     "metadata": {},
     "output_type": "execute_result"
    }
   ],
   "source": [
    "l1*3"
   ]
  },
  {
   "cell_type": "code",
   "execution_count": 50,
   "id": "5f566ee8-8d8c-4102-9a1a-0ceab7d387c6",
   "metadata": {},
   "outputs": [
    {
     "data": {
      "text/plain": [
       "10"
      ]
     },
     "execution_count": 50,
     "metadata": {},
     "output_type": "execute_result"
    }
   ],
   "source": [
    "len(l)"
   ]
  },
  {
   "cell_type": "code",
   "execution_count": 54,
   "id": "d57441f0-3af3-41d1-8f60-bef5fb9494d9",
   "metadata": {},
   "outputs": [],
   "source": [
    "li.append(9) #add no to existing list"
   ]
  },
  {
   "cell_type": "code",
   "execution_count": 53,
   "id": "32508612-52e7-4621-a561-245ed509e6aa",
   "metadata": {},
   "outputs": [
    {
     "data": {
      "text/plain": [
       "[1, 38, 384, 78, 'neeraj', 56, 98, True, (5+1j), 9]"
      ]
     },
     "execution_count": 53,
     "metadata": {},
     "output_type": "execute_result"
    }
   ],
   "source": [
    "li"
   ]
  },
  {
   "cell_type": "code",
   "execution_count": 55,
   "id": "02ee49d4-a1a7-4041-af2a-5492bdf96ba8",
   "metadata": {},
   "outputs": [
    {
     "data": {
      "text/plain": [
       "'pwskills'"
      ]
     },
     "execution_count": 55,
     "metadata": {},
     "output_type": "execute_result"
    }
   ],
   "source": [
    "s"
   ]
  },
  {
   "cell_type": "code",
   "execution_count": 56,
   "id": "f2eed84d-82e7-4695-996c-6c76826b5771",
   "metadata": {},
   "outputs": [],
   "source": [
    "l.append(s)"
   ]
  },
  {
   "cell_type": "code",
   "execution_count": 57,
   "id": "8149d502-f18b-47a6-b0fa-2fedc79803e8",
   "metadata": {},
   "outputs": [
    {
     "data": {
      "text/plain": [
       "[1, 38, 384, 78, 'neeraj', 56, 98, True, (5+1j), 45.78, 5, 'pwskills']"
      ]
     },
     "execution_count": 57,
     "metadata": {},
     "output_type": "execute_result"
    }
   ],
   "source": [
    "l"
   ]
  },
  {
   "cell_type": "code",
   "execution_count": 58,
   "id": "5796f5c6-e373-4b3f-b9c7-691e6bc8e0af",
   "metadata": {},
   "outputs": [
    {
     "data": {
      "text/plain": [
       "[3, 4, 5]"
      ]
     },
     "execution_count": 58,
     "metadata": {},
     "output_type": "execute_result"
    }
   ],
   "source": [
    "l1"
   ]
  },
  {
   "cell_type": "code",
   "execution_count": 59,
   "id": "70ffd9d1-09a2-4659-9afc-786ca18c4a00",
   "metadata": {},
   "outputs": [],
   "source": [
    "l.append(l1)"
   ]
  },
  {
   "cell_type": "code",
   "execution_count": 60,
   "id": "7caef602-db08-49a6-b6d4-4e80eba3c11b",
   "metadata": {},
   "outputs": [
    {
     "data": {
      "text/plain": [
       "[1,\n",
       " 38,\n",
       " 384,\n",
       " 78,\n",
       " 'neeraj',\n",
       " 56,\n",
       " 98,\n",
       " True,\n",
       " (5+1j),\n",
       " 45.78,\n",
       " 5,\n",
       " 'pwskills',\n",
       " [3, 4, 5]]"
      ]
     },
     "execution_count": 60,
     "metadata": {},
     "output_type": "execute_result"
    }
   ],
   "source": [
    "l"
   ]
  },
  {
   "cell_type": "code",
   "execution_count": 68,
   "id": "6ec92924-cb71-412e-a26e-07d5f8427862",
   "metadata": {},
   "outputs": [
    {
     "data": {
      "text/plain": [
       "4"
      ]
     },
     "execution_count": 68,
     "metadata": {},
     "output_type": "execute_result"
    }
   ],
   "source": [
    "l[-1][1]"
   ]
  },
  {
   "cell_type": "code",
   "execution_count": 69,
   "id": "7c845e86-c900-4d4b-962a-1864acf683ef",
   "metadata": {},
   "outputs": [
    {
     "data": {
      "text/plain": [
       "[1,\n",
       " 38,\n",
       " 384,\n",
       " 78,\n",
       " 'neeraj',\n",
       " 56,\n",
       " 98,\n",
       " True,\n",
       " (5+1j),\n",
       " 45.78,\n",
       " 5,\n",
       " 'pwskills',\n",
       " [3, 4, 5]]"
      ]
     },
     "execution_count": 69,
     "metadata": {},
     "output_type": "execute_result"
    }
   ],
   "source": [
    "l"
   ]
  },
  {
   "cell_type": "code",
   "execution_count": 72,
   "id": "c73b58ba-7df3-4ec4-8864-433ce684308f",
   "metadata": {},
   "outputs": [],
   "source": [
    "l.extend(\"neeraj\")"
   ]
  },
  {
   "cell_type": "code",
   "execution_count": 74,
   "id": "6ef2fd8b-301e-4f8d-8b3d-f852437da960",
   "metadata": {},
   "outputs": [
    {
     "data": {
      "text/plain": [
       "[1,\n",
       " 38,\n",
       " 384,\n",
       " 78,\n",
       " 'neeraj',\n",
       " 56,\n",
       " 98,\n",
       " True,\n",
       " (5+1j),\n",
       " 45.78,\n",
       " 5,\n",
       " 'pwskills',\n",
       " [3, 4, 5],\n",
       " 'n',\n",
       " 'e',\n",
       " 'e',\n",
       " 'r',\n",
       " 'a',\n",
       " 'j']"
      ]
     },
     "execution_count": 74,
     "metadata": {},
     "output_type": "execute_result"
    }
   ],
   "source": [
    "l"
   ]
  },
  {
   "cell_type": "code",
   "execution_count": 75,
   "id": "3ab8b95c-515b-472f-99d4-6acb9300ef2c",
   "metadata": {},
   "outputs": [],
   "source": [
    "l.extend([3,4,5])"
   ]
  },
  {
   "cell_type": "code",
   "execution_count": 76,
   "id": "8a2137f5-b6a0-4941-86e2-941e1d57c61b",
   "metadata": {},
   "outputs": [
    {
     "data": {
      "text/plain": [
       "[1,\n",
       " 38,\n",
       " 384,\n",
       " 78,\n",
       " 'neeraj',\n",
       " 56,\n",
       " 98,\n",
       " True,\n",
       " (5+1j),\n",
       " 45.78,\n",
       " 5,\n",
       " 'pwskills',\n",
       " [3, 4, 5],\n",
       " 'n',\n",
       " 'e',\n",
       " 'e',\n",
       " 'r',\n",
       " 'a',\n",
       " 'j',\n",
       " 3,\n",
       " 4,\n",
       " 5]"
      ]
     },
     "execution_count": 76,
     "metadata": {},
     "output_type": "execute_result"
    }
   ],
   "source": [
    "l"
   ]
  },
  {
   "cell_type": "code",
   "execution_count": 77,
   "id": "11212577-50fc-4376-b50c-395871dc7518",
   "metadata": {},
   "outputs": [
    {
     "data": {
      "text/plain": [
       "[3, 4, 5]"
      ]
     },
     "execution_count": 77,
     "metadata": {},
     "output_type": "execute_result"
    }
   ],
   "source": [
    "l1"
   ]
  },
  {
   "cell_type": "code",
   "execution_count": 79,
   "id": "f0f6a98d-32ed-4fa6-8ed1-b099153b399a",
   "metadata": {},
   "outputs": [],
   "source": [
    "l1.insert(1,\"neeraj\")"
   ]
  },
  {
   "cell_type": "code",
   "execution_count": 81,
   "id": "51b3ca0d-5afe-452b-abbe-7966e63f0225",
   "metadata": {},
   "outputs": [
    {
     "data": {
      "text/plain": [
       "[3, 'neeraj', 4, 5]"
      ]
     },
     "execution_count": 81,
     "metadata": {},
     "output_type": "execute_result"
    }
   ],
   "source": [
    "l1"
   ]
  },
  {
   "cell_type": "code",
   "execution_count": 84,
   "id": "296224e2-ccf8-4464-be3e-88c5c9db3eaa",
   "metadata": {},
   "outputs": [],
   "source": [
    "l1.insert(2,[1,2,3])"
   ]
  },
  {
   "cell_type": "code",
   "execution_count": 85,
   "id": "a7b43ea2-525b-4acc-af5a-e562fd3be2ed",
   "metadata": {},
   "outputs": [
    {
     "data": {
      "text/plain": [
       "[3, 'neeraj', [1, 2, 3], [1, 2, 3], 4, 5]"
      ]
     },
     "execution_count": 85,
     "metadata": {},
     "output_type": "execute_result"
    }
   ],
   "source": [
    "l1"
   ]
  },
  {
   "cell_type": "code",
   "execution_count": 86,
   "id": "66a7dcd8-00b3-4a63-ad9e-f60b36e9f997",
   "metadata": {},
   "outputs": [],
   "source": [
    "l1.insert(-1,45)"
   ]
  },
  {
   "cell_type": "code",
   "execution_count": 87,
   "id": "dabadc1a-973c-4301-94d9-c89eb08a4f07",
   "metadata": {},
   "outputs": [
    {
     "data": {
      "text/plain": [
       "[3, 'neeraj', [1, 2, 3], [1, 2, 3], 4, 45, 5]"
      ]
     },
     "execution_count": 87,
     "metadata": {},
     "output_type": "execute_result"
    }
   ],
   "source": [
    "l1"
   ]
  },
  {
   "cell_type": "code",
   "execution_count": 88,
   "id": "7a89b8ba-e051-4ea9-8cb5-1445df6e83d1",
   "metadata": {},
   "outputs": [
    {
     "data": {
      "text/plain": [
       "5"
      ]
     },
     "execution_count": 88,
     "metadata": {},
     "output_type": "execute_result"
    }
   ],
   "source": [
    "l1.pop() #remove data"
   ]
  },
  {
   "cell_type": "code",
   "execution_count": 89,
   "id": "068681f0-bcd6-49be-9857-25b399fc4925",
   "metadata": {},
   "outputs": [
    {
     "data": {
      "text/plain": [
       "[3, 'neeraj', [1, 2, 3], [1, 2, 3], 4, 45]"
      ]
     },
     "execution_count": 89,
     "metadata": {},
     "output_type": "execute_result"
    }
   ],
   "source": [
    "l1"
   ]
  },
  {
   "cell_type": "code",
   "execution_count": 90,
   "id": "109c8949-2d0c-4219-b4bf-e64839c84aed",
   "metadata": {},
   "outputs": [
    {
     "data": {
      "text/plain": [
       "[1, 2, 3]"
      ]
     },
     "execution_count": 90,
     "metadata": {},
     "output_type": "execute_result"
    }
   ],
   "source": [
    "l1.pop(3)"
   ]
  },
  {
   "cell_type": "code",
   "execution_count": 92,
   "id": "b5efd125-eef1-40a2-907d-8ce1ba6139a6",
   "metadata": {},
   "outputs": [],
   "source": [
    "l1.remove(3)"
   ]
  },
  {
   "cell_type": "code",
   "execution_count": 93,
   "id": "f66baa4d-6ec1-41da-9462-e51cd7eb3a3c",
   "metadata": {},
   "outputs": [
    {
     "data": {
      "text/plain": [
       "['neeraj', [1, 2, 3], 4, 45]"
      ]
     },
     "execution_count": 93,
     "metadata": {},
     "output_type": "execute_result"
    }
   ],
   "source": [
    "l1"
   ]
  },
  {
   "cell_type": "code",
   "execution_count": 99,
   "id": "3b6dc1c7-5ed5-480a-8eca-9a105abd4781",
   "metadata": {},
   "outputs": [],
   "source": [
    "l1[1].remove(3)"
   ]
  },
  {
   "cell_type": "code",
   "execution_count": 100,
   "id": "8b4437c9-c6e0-468c-b5bc-3bfd414bd252",
   "metadata": {},
   "outputs": [
    {
     "data": {
      "text/plain": [
       "['neeraj', [1, 2], 4, 45]"
      ]
     },
     "execution_count": 100,
     "metadata": {},
     "output_type": "execute_result"
    }
   ],
   "source": [
    "l1"
   ]
  },
  {
   "cell_type": "code",
   "execution_count": 101,
   "id": "bcb666df-a59e-4a75-aa7b-2874e1cbb7b8",
   "metadata": {},
   "outputs": [],
   "source": [
    "l1.append(4)"
   ]
  },
  {
   "cell_type": "code",
   "execution_count": 102,
   "id": "14182d09-3179-49b5-a1b9-16d1fc62cbd3",
   "metadata": {},
   "outputs": [
    {
     "data": {
      "text/plain": [
       "['neeraj', [1, 2], 4, 45, 4]"
      ]
     },
     "execution_count": 102,
     "metadata": {},
     "output_type": "execute_result"
    }
   ],
   "source": [
    "l1"
   ]
  },
  {
   "cell_type": "code",
   "execution_count": 103,
   "id": "5314e5b2-83aa-49a2-b78d-0fff86e43002",
   "metadata": {},
   "outputs": [],
   "source": [
    "l1.remove(4)"
   ]
  },
  {
   "cell_type": "code",
   "execution_count": 104,
   "id": "b47660c1-f565-4132-893e-38965ae8778e",
   "metadata": {},
   "outputs": [
    {
     "data": {
      "text/plain": [
       "['neeraj', [1, 2], 45, 4]"
      ]
     },
     "execution_count": 104,
     "metadata": {},
     "output_type": "execute_result"
    }
   ],
   "source": [
    "l1"
   ]
  },
  {
   "cell_type": "code",
   "execution_count": 105,
   "id": "6ceea559-b012-4a36-879a-8ff7adee875b",
   "metadata": {},
   "outputs": [],
   "source": [
    "l1.reverse()"
   ]
  },
  {
   "cell_type": "code",
   "execution_count": 106,
   "id": "c9fb474d-dbda-47fc-b2af-adf6d6ef8db6",
   "metadata": {},
   "outputs": [
    {
     "data": {
      "text/plain": [
       "[4, 45, [1, 2], 'neeraj']"
      ]
     },
     "execution_count": 106,
     "metadata": {},
     "output_type": "execute_result"
    }
   ],
   "source": [
    "l1"
   ]
  },
  {
   "cell_type": "code",
   "execution_count": 107,
   "id": "5eef3071-f368-4731-be0c-b7c7629fcf4c",
   "metadata": {},
   "outputs": [],
   "source": [
    "l2=[3,7,5,7,1,8,2,6,]"
   ]
  },
  {
   "cell_type": "code",
   "execution_count": 115,
   "id": "77dffa44-21dd-4e91-8bf6-dd24460d4b91",
   "metadata": {},
   "outputs": [],
   "source": [
    "l2.sort()"
   ]
  },
  {
   "cell_type": "code",
   "execution_count": 110,
   "id": "05c5b614-6b31-4477-a370-bdeb57dad63d",
   "metadata": {},
   "outputs": [
    {
     "data": {
      "text/plain": [
       "[1, 2, 3, 5, 6, 7, 7, 8]"
      ]
     },
     "execution_count": 110,
     "metadata": {},
     "output_type": "execute_result"
    }
   ],
   "source": [
    "l2"
   ]
  },
  {
   "cell_type": "code",
   "execution_count": 118,
   "id": "eecf9e83-21c3-46bd-a7ba-73a1102889d1",
   "metadata": {},
   "outputs": [],
   "source": [
    "l2.sort(reverse=False)"
   ]
  },
  {
   "cell_type": "code",
   "execution_count": 119,
   "id": "4fd79ce4-15c2-4237-a8c8-a9a517b72e3b",
   "metadata": {},
   "outputs": [
    {
     "data": {
      "text/plain": [
       "[1, 2, 3, 5, 6, 7, 7, 8]"
      ]
     },
     "execution_count": 119,
     "metadata": {},
     "output_type": "execute_result"
    }
   ],
   "source": [
    "l2"
   ]
  },
  {
   "cell_type": "code",
   "execution_count": 116,
   "id": "01a35d0c-17ca-46e5-8285-eb5009adc724",
   "metadata": {},
   "outputs": [],
   "source": [
    "l3=[23,45,\"Neeraj\",67,85,\"prasad\"]"
   ]
  },
  {
   "cell_type": "code",
   "execution_count": null,
   "id": "61e7b5e1-5371-424b-aa7b-fef09b3899a8",
   "metadata": {},
   "outputs": [],
   "source": []
  }
 ],
 "metadata": {
  "kernelspec": {
   "display_name": "Python 3 (ipykernel)",
   "language": "python",
   "name": "python3"
  },
  "language_info": {
   "codemirror_mode": {
    "name": "ipython",
    "version": 3
   },
   "file_extension": ".py",
   "mimetype": "text/x-python",
   "name": "python",
   "nbconvert_exporter": "python",
   "pygments_lexer": "ipython3",
   "version": "3.10.8"
  }
 },
 "nbformat": 4,
 "nbformat_minor": 5
}
