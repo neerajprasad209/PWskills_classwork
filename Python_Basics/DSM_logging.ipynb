{
 "cells": [
  {
   "cell_type": "code",
   "execution_count": 5,
   "id": "ab19e6f0-254b-4698-91d0-e5825c8588c2",
   "metadata": {},
   "outputs": [
    {
     "name": "stdout",
     "output_type": "stream",
     "text": [
      "This is my print\n"
     ]
    }
   ],
   "source": [
    "print(\"This is my print\")"
   ]
  },
  {
   "cell_type": "code",
   "execution_count": 1,
   "id": "b245d811-8746-4ec0-bb91-09b554d715b1",
   "metadata": {},
   "outputs": [],
   "source": [
    "import logging"
   ]
  },
  {
   "cell_type": "code",
   "execution_count": 9,
   "id": "a1bf66cc-34d2-4b91-a405-e204ad114180",
   "metadata": {},
   "outputs": [],
   "source": [
    "logging.basicConfig(filename = 'test.log', level = logging.INFO)"
   ]
  },
  {
   "cell_type": "code",
   "execution_count": 11,
   "id": "87564462-84cc-4c3b-bf59-3e57ac40823d",
   "metadata": {},
   "outputs": [],
   "source": [
    "logging.info(\"log this line of execution\")"
   ]
  },
  {
   "cell_type": "code",
   "execution_count": 12,
   "id": "60ffc6ea-b913-48f6-9cb4-b1db109e6a24",
   "metadata": {},
   "outputs": [],
   "source": [
    "logging.info(\"This is my print\")"
   ]
  },
  {
   "cell_type": "code",
   "execution_count": 13,
   "id": "333d1cbc-4761-489c-bf7d-26c2ad7f0c11",
   "metadata": {},
   "outputs": [],
   "source": [
    "logging.debug(\"This is my msg\")"
   ]
  },
  {
   "cell_type": "code",
   "execution_count": 14,
   "id": "49451f5f-cbf6-4e77-beaa-03a648cad9c0",
   "metadata": {},
   "outputs": [],
   "source": [
    "logging.warning(\"This my warning msg\")"
   ]
  },
  {
   "cell_type": "code",
   "execution_count": 15,
   "id": "ab18befe-8cf9-4ad8-b9c5-25db71a0b417",
   "metadata": {},
   "outputs": [],
   "source": [
    "logging.error(\"This is my error\")"
   ]
  },
  {
   "cell_type": "code",
   "execution_count": 19,
   "id": "fc7e5839-575a-4ea6-aedf-084a31b6d5bf",
   "metadata": {},
   "outputs": [],
   "source": [
    "logging.shutdown()"
   ]
  },
  {
   "cell_type": "markdown",
   "id": "c7ec49c7-680c-424d-b3ab-7d6915a1e230",
   "metadata": {},
   "source": [
    "1. NOTSET\n",
    "2. DEBUG\n",
    "3. INFO\n",
    "4. WARNING\n",
    "5. ERROR\n",
    "6. CRITICAL"
   ]
  },
  {
   "cell_type": "code",
   "execution_count": 2,
   "id": "053e4052-d9b2-41eb-ba60-196a21a99ab1",
   "metadata": {},
   "outputs": [],
   "source": [
    "logging.basicConfig(filename = \"test1.log\", level = logging.DEBUG, format = '%(asctime)s %(message)s')"
   ]
  },
  {
   "cell_type": "code",
   "execution_count": 4,
   "id": "532f295f-a04a-4472-a2f5-a5b8263d139b",
   "metadata": {},
   "outputs": [],
   "source": [
    "logging.info(\"This is my info logging\")\n",
    "logging.error(\"this my error\")\n",
    "logging.critical(\"this is my critical\")"
   ]
  },
  {
   "cell_type": "code",
   "execution_count": 5,
   "id": "06bce5a4-e912-44df-ad9b-a6683801db3f",
   "metadata": {},
   "outputs": [],
   "source": [
    "logging.shutdown()"
   ]
  },
  {
   "cell_type": "code",
   "execution_count": 1,
   "id": "59e0ce6a-7943-437e-ab03-d9513ab103c8",
   "metadata": {},
   "outputs": [],
   "source": [
    "import logging"
   ]
  },
  {
   "cell_type": "code",
   "execution_count": 2,
   "id": "b4b309fe-b825-461c-9144-66792c1f93a6",
   "metadata": {},
   "outputs": [],
   "source": [
    "logging.basicConfig(filename = \"test2.log\", level = logging.DEBUG, format = '%(asctime)s %(name)s %(levelname)s %(message)s')"
   ]
  },
  {
   "cell_type": "code",
   "execution_count": 3,
   "id": "c4b53be2-b8c9-44f0-a9de-2aed80562dd0",
   "metadata": {},
   "outputs": [],
   "source": [
    "logging.info(\"This is my info logging\")\n",
    "logging.error(\"this my error\")\n",
    "logging.critical(\"this is my critical\")"
   ]
  },
  {
   "cell_type": "code",
   "execution_count": 4,
   "id": "d6bb3056-6a31-4ecf-9207-44ddb5120b6f",
   "metadata": {},
   "outputs": [],
   "source": [
    "l = [1,2,3,4,5,[3,4,7,3,5],\"Neeraj\",\"Diksha\"]"
   ]
  },
  {
   "cell_type": "code",
   "execution_count": 15,
   "id": "4b51510b-6a47-4826-8e97-21661a3f5aad",
   "metadata": {},
   "outputs": [],
   "source": [
    "l1_int = []\n",
    "l2_str =[]\n",
    "for i in l:\n",
    "    logging.info(\"We are iterating through our list and our local var is {}\".format(l))\n",
    "    if type(i) == list:\n",
    "        logging.info(\"i am inside the if statement and im trying to check list type\" + str(i))\n",
    "        for j in i:\n",
    "            logging.info(\"i am in another for loop for list inside list element\" + str(j))\n",
    "            if type(j) == int:\n",
    "                logging.info(\"i am inside if statement\")\n",
    "                l1_int.append(j)\n",
    "    elif type(i) == int:\n",
    "        l1_int.append(i)\n",
    "    else:\n",
    "        if type(i) == str:\n",
    "            l2_str.append(i)\n",
    "            "
   ]
  },
  {
   "cell_type": "code",
   "execution_count": 12,
   "id": "6404df40-3089-4dd3-bf32-474ea4aa59cb",
   "metadata": {},
   "outputs": [
    {
     "data": {
      "text/plain": [
       "[1, 2, 3, 4, 5, 3, 4, 7, 3, 5]"
      ]
     },
     "execution_count": 12,
     "metadata": {},
     "output_type": "execute_result"
    }
   ],
   "source": [
    "l1_int"
   ]
  },
  {
   "cell_type": "code",
   "execution_count": 13,
   "id": "a811d198-f70c-4c72-9c84-18e93d4aa67f",
   "metadata": {},
   "outputs": [
    {
     "data": {
      "text/plain": [
       "['Neeraj', 'Diksha']"
      ]
     },
     "execution_count": 13,
     "metadata": {},
     "output_type": "execute_result"
    }
   ],
   "source": [
    "l2_str"
   ]
  },
  {
   "cell_type": "code",
   "execution_count": null,
   "id": "556d1069-09ae-42e6-a536-b3c6b9df3b87",
   "metadata": {},
   "outputs": [],
   "source": []
  }
 ],
 "metadata": {
  "kernelspec": {
   "display_name": "Python 3 (ipykernel)",
   "language": "python",
   "name": "python3"
  },
  "language_info": {
   "codemirror_mode": {
    "name": "ipython",
    "version": 3
   },
   "file_extension": ".py",
   "mimetype": "text/x-python",
   "name": "python",
   "nbconvert_exporter": "python",
   "pygments_lexer": "ipython3",
   "version": "3.10.8"
  }
 },
 "nbformat": 4,
 "nbformat_minor": 5
}
