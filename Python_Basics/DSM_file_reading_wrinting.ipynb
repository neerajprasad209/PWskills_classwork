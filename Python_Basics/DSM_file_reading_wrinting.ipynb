{
 "cells": [
  {
   "cell_type": "code",
   "execution_count": 1,
   "id": "09c3ba82-0df7-4d63-bf9f-38fef9145957",
   "metadata": {},
   "outputs": [],
   "source": [
    "data = {\n",
    "    \"name\" : \"Neeraj\",\n",
    "    \"mail_id\" : \"neeraj@gmail.com\",\n",
    "    \"phone number\" : 1234567890,\n",
    "    \"subject\" : [\"Data Science\", \"Big Data\", \"Data Analytics\"]\n",
    "    \n",
    "}"
   ]
  },
  {
   "cell_type": "code",
   "execution_count": 2,
   "id": "50efca1f-5220-4ace-97a0-b6edbbf2247b",
   "metadata": {},
   "outputs": [],
   "source": [
    "import json "
   ]
  },
  {
   "cell_type": "code",
   "execution_count": 3,
   "id": "af1f02c1-605f-4109-b514-ee536e0b72aa",
   "metadata": {},
   "outputs": [],
   "source": [
    "with open (\"data.json\",\"w\") as f :\n",
    "    json.dump(data,f)"
   ]
  },
  {
   "cell_type": "code",
   "execution_count": 4,
   "id": "988c95c3-3833-4e48-a4d1-6917f3b92ace",
   "metadata": {},
   "outputs": [],
   "source": [
    "with open(\"data.json\",\"r\" )as f :\n",
    "    data1 = json.load(f)"
   ]
  },
  {
   "cell_type": "code",
   "execution_count": 5,
   "id": "6d93ce5b-1079-4eed-9e04-b5f675a9ee1c",
   "metadata": {},
   "outputs": [
    {
     "data": {
      "text/plain": [
       "{'name': 'Neeraj',\n",
       " 'mail_id': 'neeraj@gmail.com',\n",
       " 'phone number': 1234567890,\n",
       " 'subject': ['Data Science', 'Big Data', 'Data Analytics']}"
      ]
     },
     "execution_count": 5,
     "metadata": {},
     "output_type": "execute_result"
    }
   ],
   "source": [
    "data1"
   ]
  },
  {
   "cell_type": "code",
   "execution_count": 7,
   "id": "29d8d03b-5ddf-4b7d-a53a-06c036f9c270",
   "metadata": {},
   "outputs": [
    {
     "data": {
      "text/plain": [
       "'Big Data'"
      ]
     },
     "execution_count": 7,
     "metadata": {},
     "output_type": "execute_result"
    }
   ],
   "source": [
    "data1[\"subject\"][1]"
   ]
  },
  {
   "cell_type": "code",
   "execution_count": null,
   "id": "0c87188d-372a-4b00-a337-724efe476b4c",
   "metadata": {},
   "outputs": [],
   "source": []
  }
 ],
 "metadata": {
  "kernelspec": {
   "display_name": "Python 3 (ipykernel)",
   "language": "python",
   "name": "python3"
  },
  "language_info": {
   "codemirror_mode": {
    "name": "ipython",
    "version": 3
   },
   "file_extension": ".py",
   "mimetype": "text/x-python",
   "name": "python",
   "nbconvert_exporter": "python",
   "pygments_lexer": "ipython3",
   "version": "3.10.8"
  }
 },
 "nbformat": 4,
 "nbformat_minor": 5
}
