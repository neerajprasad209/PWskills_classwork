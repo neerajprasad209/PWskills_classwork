{
 "cells": [
  {
   "cell_type": "code",
   "execution_count": 2,
   "id": "0155faf3-7c50-472e-827b-b9d614f09c33",
   "metadata": {},
   "outputs": [],
   "source": [
    "f = open(\"test.txt\",'w')"
   ]
  },
  {
   "cell_type": "code",
   "execution_count": 3,
   "id": "fc7baf65-d944-42eb-a6fe-f175eaddfea2",
   "metadata": {},
   "outputs": [
    {
     "data": {
      "text/plain": [
       "'/home/jovyan/work'"
      ]
     },
     "execution_count": 3,
     "metadata": {},
     "output_type": "execute_result"
    }
   ],
   "source": [
    "pwd"
   ]
  },
  {
   "cell_type": "code",
   "execution_count": 4,
   "id": "8c33a8a5-bc1a-4580-a868-5001f95aa666",
   "metadata": {},
   "outputs": [
    {
     "name": "stdout",
     "output_type": "stream",
     "text": [
      "/home/jovyan/work/kris_niak sir\n"
     ]
    }
   ],
   "source": [
    "cd kris_niak sir"
   ]
  },
  {
   "cell_type": "code",
   "execution_count": 5,
   "id": "a2484f37-c266-4a41-8bcc-394f6b37832b",
   "metadata": {},
   "outputs": [
    {
     "name": "stdout",
     "output_type": "stream",
     "text": [
      "'2-Python List,Dictionary,Sets etc.ipynb'\n",
      "'3-Numpy Tutorial.ipynb'\n",
      " 4.5-Matplotlib.ipynb\n",
      "'4- Pandas tutorial.ipynb'\n",
      "'5- Seaborn.ipynb'\n",
      "'6- Functions.ipynb'\n",
      "'Advanced Python Assert.ipynb'\n",
      "'Advanced Python Exception1.ipynb'\n",
      "'Advance Python Series- Inheritance--OOPS.ipynb'\n",
      "'Advance Python Series-Magic Methods In Classes.ipynb'\n",
      "'Advance Python Series- Public Private And Protected.ipynb'\n",
      "'Asynchronous Execution With Thread Using Python.ipynb'\n",
      "'Basics of Python.ipynb'\n",
      "'Class Methods In Python.ipynb'\n",
      " EDA.ipynb\n",
      "'inheritance in oops eng.ipynb'\n",
      "'Modin Pandas.ipynb'\n",
      "'Multiple Inheritance In Python.ipynb'\n",
      "'Python Decorators.ipynb'\n",
      "'Python Eval() Functions.ipynb'\n",
      "'Python IS Keyword.ipynb'\n",
      "'Python- Iterators Vs Generators.ipynb'\n",
      "'Python Zip Function-Parallel Iteration.ipynb'\n",
      "'Shallow Copy Vs Deep Copy Python.ipynb'\n",
      "'Static Methods In Python.ipynb'\n"
     ]
    }
   ],
   "source": [
    "ls"
   ]
  },
  {
   "cell_type": "code",
   "execution_count": 9,
   "id": "c8c4807b-76cc-45b3-9ca5-cb720ca274ed",
   "metadata": {},
   "outputs": [
    {
     "name": "stdout",
     "output_type": "stream",
     "text": [
      "/home/jovyan\n"
     ]
    }
   ],
   "source": [
    "cd"
   ]
  },
  {
   "cell_type": "code",
   "execution_count": 10,
   "id": "cf9abfdb-7465-4190-b641-18e913d64776",
   "metadata": {},
   "outputs": [
    {
     "name": "stdout",
     "output_type": "stream",
     "text": [
      "\u001b[0m\u001b[01;34mwork\u001b[0m/\n"
     ]
    }
   ],
   "source": [
    "ls"
   ]
  },
  {
   "cell_type": "code",
   "execution_count": 11,
   "id": "30aeb625-0cc0-4759-967b-cd267c01cb9a",
   "metadata": {},
   "outputs": [
    {
     "name": "stdout",
     "output_type": "stream",
     "text": [
      "/home/jovyan/work\n"
     ]
    }
   ],
   "source": [
    "cd work"
   ]
  },
  {
   "cell_type": "code",
   "execution_count": 12,
   "id": "b174ea5c-fd49-4ee4-90f0-6da4e7788188",
   "metadata": {},
   "outputs": [
    {
     "name": "stdout",
     "output_type": "stream",
     "text": [
      " DSM_1st_class.ipynb            DSM_List_tuple_set.ipynb\n",
      " DSM_2nd_class.ipynb            DSM_loop.ipynb\n",
      " DSM_3rd_class.ipynb           'DSM_MapReduce_Filter Function.ipynb'\n",
      " DSM_Abstraction.ipynb          DSM_OOPs_concepts.ipynb\n",
      " DSM_Class_method.ipynb         DSM_Pollymorphism.ipynb\n",
      "'DSM_Decorator .ipynb'         'DSM_special(magic or Dunder )method.ipynb'\n",
      " DSM_Decorators.ipynb           DSM_static_method.ipynb\n",
      " DSM_dic_cond_loop.ipynb        DSM_whileloop.ipynb\n",
      " DSM_Encaptulation.ipynb       \u001b[0m\u001b[01;34m'kris_niak sir'\u001b[0m/\n",
      " DSM_file_operation.ipynb       list_tuple_set.ipynb\n",
      " DSM_Function_Prat1.ipynb      'python basic_1.ipynb'\n",
      " DSM_Generator_Function.ipynb   README.md\n",
      " DSM_Inheritance.ipynb          test.txt\n",
      " DSM_Lamda_Function.ipynb       Untitled.ipynb\n"
     ]
    }
   ],
   "source": [
    "ls"
   ]
  },
  {
   "cell_type": "code",
   "execution_count": 13,
   "id": "dc061a29-6917-4500-bb2a-1037ac2d7338",
   "metadata": {},
   "outputs": [
    {
     "data": {
      "text/plain": [
       "20"
      ]
     },
     "execution_count": 13,
     "metadata": {},
     "output_type": "execute_result"
    }
   ],
   "source": [
    "f.write(\"This is my new file \")"
   ]
  },
  {
   "cell_type": "code",
   "execution_count": 16,
   "id": "c5ec9d2e-6688-4c14-9aec-1da2a1992bf1",
   "metadata": {},
   "outputs": [],
   "source": [
    "f.close()"
   ]
  },
  {
   "cell_type": "code",
   "execution_count": 17,
   "id": "290268ea-8135-4e9b-acba-3a7043896f5c",
   "metadata": {},
   "outputs": [],
   "source": [
    "f = open(\"test.txt\",'w')"
   ]
  },
  {
   "cell_type": "code",
   "execution_count": 18,
   "id": "6ccb0c20-dbf9-4f37-b191-cf39bcbc2e84",
   "metadata": {},
   "outputs": [
    {
     "data": {
      "text/plain": [
       "16"
      ]
     },
     "execution_count": 18,
     "metadata": {},
     "output_type": "execute_result"
    }
   ],
   "source": [
    "f.write(\"This is my file \")"
   ]
  },
  {
   "cell_type": "code",
   "execution_count": 19,
   "id": "68a2d646-d326-455e-a646-2cfa301ab885",
   "metadata": {},
   "outputs": [],
   "source": [
    "f.close()"
   ]
  },
  {
   "cell_type": "code",
   "execution_count": 30,
   "id": "a9404c0a-9a41-480a-b6ec-61636329dfaa",
   "metadata": {},
   "outputs": [],
   "source": [
    "f = open(\"test.txt\",'a')"
   ]
  },
  {
   "cell_type": "code",
   "execution_count": 31,
   "id": "0b5436a7-ccfa-419e-9cd7-fd819e5580c7",
   "metadata": {},
   "outputs": [
    {
     "data": {
      "text/plain": [
       "765"
      ]
     },
     "execution_count": 31,
     "metadata": {},
     "output_type": "execute_result"
    }
   ],
   "source": [
    "f.write(\"Data Science Masters course is highly curated and uniquely designed according to the latest industry standards. This program instills students the skills essential to knowledge discovery efforts to identify standard, novel, and truly differentiated solutions and decision-making, including skills in managing, querying, analyzing, visualizing, and extracting meaning from extremely large data sets. This trending program provides students with the statistical, mathematical and computational skills needed to meet the large-scale data science challenges of today's professional world. You will learn all the stack required to work in data science industry including cloud infrastructure and real-time industry projects. This course will be taught in Hindi language.\")"
   ]
  },
  {
   "cell_type": "code",
   "execution_count": 32,
   "id": "e406cefd-6dd3-4b6b-8647-b979e317c496",
   "metadata": {},
   "outputs": [],
   "source": [
    "f.close()"
   ]
  },
  {
   "cell_type": "code",
   "execution_count": 33,
   "id": "93f2ccf7-1c45-45c0-be3f-8b5cbda6cc6d",
   "metadata": {},
   "outputs": [],
   "source": [
    "f = open(\"test.txt\",'r')"
   ]
  },
  {
   "cell_type": "code",
   "execution_count": 34,
   "id": "4b1a0180-830b-4a01-8b3b-813806ed9b9a",
   "metadata": {},
   "outputs": [
    {
     "data": {
      "text/plain": [
       "\"This is my file Data Science Masters course is highly curated and uniquely designed according to the latest industry standards. This program instills students the skills essential to knowledge discovery efforts to identify standard, novel, and truly differentiated solutions and decision-making, including skills in managing, querying, analyzing, visualizing, and extracting meaning from extremely large data sets. This trending program provides students with the statistical, mathematical and computational skills needed to meet the large-scale data science challenges of today's professional world. You will learn all the stack required to work in data science industry including cloud infrastructure and real-time industry projects. This course will be taught in Hindi language.Data Science Masters course is highly curated and uniquely designed according to the latest industry standards. This program instills students the skills essential to knowledge discovery efforts to identify standard, novel, and truly differentiated solutions and decision-making, including skills in managing, querying, analyzing, visualizing, and extracting meaning from extremely large data sets. This trending program provides students with the statistical, mathematical and computational skills needed to meet the large-scale data science challenges of today's professional world. You will learn all the stack required to work in data science industry including cloud infrastructure and real-time industry projects. This course will be taught in Hindi language.\""
      ]
     },
     "execution_count": 34,
     "metadata": {},
     "output_type": "execute_result"
    }
   ],
   "source": [
    "f.read()"
   ]
  },
  {
   "cell_type": "code",
   "execution_count": 45,
   "id": "5fad2abf-71e6-4f47-bbe4-993b3ad9d202",
   "metadata": {},
   "outputs": [],
   "source": [
    "data = f = open(\"test.txt\",'r')"
   ]
  },
  {
   "cell_type": "code",
   "execution_count": 46,
   "id": "2b941624-543c-4a0c-9df4-778b21b43053",
   "metadata": {},
   "outputs": [
    {
     "data": {
      "text/plain": [
       "\"This is my file Data Science Masters course is highly curated and uniquely designed according to the latest industry standards. This program instills students the skills essential to knowledge discovery efforts to identify standard, novel, and truly differentiated solutions and decision-making, including skills in managing, querying, analyzing, visualizing, and extracting meaning from extremely large data sets. This trending program provides students with the statistical, mathematical and computational skills needed to meet the large-scale data science challenges of today's professional world. You will learn all the stack required to work in data science industry including cloud infrastructure and real-time industry projects. This course will be taught in Hindi language.Data Science Masters course is highly curated and uniquely designed according to the latest industry standards. This program instills students the skills essential to knowledge discovery efforts to identify standard, novel, and truly differentiated solutions and decision-making, including skills in managing, querying, analyzing, visualizing, and extracting meaning from extremely large data sets. This trending program provides students with the statistical, mathematical and computational skills needed to meet the large-scale data science challenges of today's professional world. You will learn all the stack required to work in data science industry including cloud infrastructure and real-time industry projects. This course will be taught in Hindi language.\""
      ]
     },
     "execution_count": 46,
     "metadata": {},
     "output_type": "execute_result"
    }
   ],
   "source": [
    "data.read()"
   ]
  },
  {
   "cell_type": "code",
   "execution_count": null,
   "id": "99e187a5-2d32-46aa-9355-a48eba62d7aa",
   "metadata": {},
   "outputs": [],
   "source": []
  },
  {
   "cell_type": "code",
   "execution_count": 61,
   "id": "354e7dd4-ca5e-4c0c-af5a-e8c963cea892",
   "metadata": {},
   "outputs": [
    {
     "data": {
      "text/plain": [
       "10"
      ]
     },
     "execution_count": 61,
     "metadata": {},
     "output_type": "execute_result"
    }
   ],
   "source": [
    "data.seek(10)"
   ]
  },
  {
   "cell_type": "code",
   "execution_count": 62,
   "id": "36a62126-10fc-4edd-9a2c-427c58df03b7",
   "metadata": {},
   "outputs": [
    {
     "data": {
      "text/plain": [
       "\" file Data Science Masters course is highly curated and uniquely designed according to the latest industry standards. This program instills students the skills essential to knowledge discovery efforts to identify standard, novel, and truly differentiated solutions and decision-making, including skills in managing, querying, analyzing, visualizing, and extracting meaning from extremely large data sets. This trending program provides students with the statistical, mathematical and computational skills needed to meet the large-scale data science challenges of today's professional world. You will learn all the stack required to work in data science industry including cloud infrastructure and real-time industry projects. This course will be taught in Hindi language.Data Science Masters course is highly curated and uniquely designed according to the latest industry standards. This program instills students the skills essential to knowledge discovery efforts to identify standard, novel, and truly differentiated solutions and decision-making, including skills in managing, querying, analyzing, visualizing, and extracting meaning from extremely large data sets. This trending program provides students with the statistical, mathematical and computational skills needed to meet the large-scale data science challenges of today's professional world. You will learn all the stack required to work in data science industry including cloud infrastructure and real-time industry projects. This course will be taught in Hindi language.\""
      ]
     },
     "execution_count": 62,
     "metadata": {},
     "output_type": "execute_result"
    }
   ],
   "source": [
    "data.readline()"
   ]
  },
  {
   "cell_type": "code",
   "execution_count": 63,
   "id": "7e843715-35c8-4246-aa5c-b36b8037ba79",
   "metadata": {},
   "outputs": [],
   "source": [
    "data1 = open(\"test.txt\",'r')"
   ]
  },
  {
   "cell_type": "code",
   "execution_count": 65,
   "id": "af78ff05-0550-4650-9f7e-42c67e71aa43",
   "metadata": {},
   "outputs": [
    {
     "name": "stdout",
     "output_type": "stream",
     "text": [
      "This is my file Data Science Masters course is highly curated and uniquely designed according to the latest industry standards. This program instills students the skills essential to knowledge discovery efforts to identify standard, novel, and truly differentiated solutions and decision-making, including skills in managing, querying, analyzing, visualizing, and extracting meaning from extremely large data sets. This trending program provides students with the statistical, mathematical and computational skills needed to meet the large-scale data science challenges of today's professional world. You will learn all the stack required to work in data science industry including cloud infrastructure and real-time industry projects. This course will be taught in Hindi language.Data Science Masters course is highly curated and uniquely designed according to the latest industry standards. This program instills students the skills essential to knowledge discovery efforts to identify standard, novel, and truly differentiated solutions and decision-making, including skills in managing, querying, analyzing, visualizing, and extracting meaning from extremely large data sets. This trending program provides students with the statistical, mathematical and computational skills needed to meet the large-scale data science challenges of today's professional world. You will learn all the stack required to work in data science industry including cloud infrastructure and real-time industry projects. This course will be taught in Hindi language.\n"
     ]
    }
   ],
   "source": [
    "for i in data1:\n",
    "    print(i)"
   ]
  },
  {
   "cell_type": "code",
   "execution_count": 66,
   "id": "af6ea726-6f6a-440a-9c7d-1944f2a95c0f",
   "metadata": {},
   "outputs": [],
   "source": [
    "import os "
   ]
  },
  {
   "cell_type": "code",
   "execution_count": 67,
   "id": "fd6f56d3-9b3c-4db0-97fe-b6ea9e6a104f",
   "metadata": {},
   "outputs": [
    {
     "data": {
      "text/plain": [
       "1546"
      ]
     },
     "execution_count": 67,
     "metadata": {},
     "output_type": "execute_result"
    }
   ],
   "source": [
    "os.path.getsize(\"test.txt\")"
   ]
  },
  {
   "cell_type": "code",
   "execution_count": 77,
   "id": "5a793d5f-7dd7-489f-9ba5-d57bdc297cd2",
   "metadata": {},
   "outputs": [],
   "source": [
    "f = open(\"test.txt\",'w')"
   ]
  },
  {
   "cell_type": "code",
   "execution_count": 78,
   "id": "6807ef67-7cb0-43eb-8761-47f4f23c7825",
   "metadata": {},
   "outputs": [
    {
     "data": {
      "text/plain": [
       "1546"
      ]
     },
     "execution_count": 78,
     "metadata": {},
     "output_type": "execute_result"
    }
   ],
   "source": [
    "f.write(\"This is my file Data Science Masters course is highly curated and uniquely designed according to the latest industry standards. This program instills students the skills essential to knowledge discovery efforts to identify standard, novel, and truly differentiated solutions and decision-making, including skills in managing, querying, analyzing, visualizing, and extracting meaning from extremely large data sets. This trending program provides students with the statistical, mathematical and computational skills needed to meet the large-scale data science challenges of today's professional world. You will learn all the stack required to work in data science industry including cloud infrastructure and real-time industry projects. This course will be taught in Hindi language.Data Science Masters course is highly curated and uniquely designed according to the latest industry standards. This program instills students the skills essential to knowledge discovery efforts to identify standard, novel, and truly differentiated solutions and decision-making, including skills in managing, querying, analyzing, visualizing, and extracting meaning from extremely large data sets. This trending program provides students with the statistical, mathematical and computational skills needed to meet the large-scale data science challenges of today's professional world. You will learn all the stack required to work in data science industry including cloud infrastructure and real-time industry projects. This course will be taught in Hindi language.\")"
   ]
  },
  {
   "cell_type": "code",
   "execution_count": 79,
   "id": "0af7f815-e2a2-4e87-9b94-17ba4638aaa5",
   "metadata": {},
   "outputs": [],
   "source": [
    "f.close()"
   ]
  },
  {
   "cell_type": "code",
   "execution_count": 80,
   "id": "0605b266-2fd6-4825-a5c3-14153170009a",
   "metadata": {},
   "outputs": [],
   "source": [
    "os.rename(\"test.txt\",\"new.txt\")"
   ]
  },
  {
   "cell_type": "code",
   "execution_count": 81,
   "id": "e87becab-6027-4cdf-b3f3-e6553c756781",
   "metadata": {},
   "outputs": [],
   "source": [
    "import shutil"
   ]
  },
  {
   "cell_type": "code",
   "execution_count": 82,
   "id": "61e126e7-8009-42f9-9778-9bfb2178496a",
   "metadata": {},
   "outputs": [
    {
     "data": {
      "text/plain": [
       "'Copy_new.txt'"
      ]
     },
     "execution_count": 82,
     "metadata": {},
     "output_type": "execute_result"
    }
   ],
   "source": [
    "shutil.copy(\"new.txt\",\"Copy_new.txt\")"
   ]
  },
  {
   "cell_type": "code",
   "execution_count": 86,
   "id": "9e7dfd5c-0d2d-4814-98e8-bfa822ad264d",
   "metadata": {},
   "outputs": [
    {
     "name": "stdout",
     "output_type": "stream",
     "text": [
      "This is my file Data Science Masters course is highly curated and uniquely designed according to the latest industry standards. This program instills students the skills essential to knowledge discovery efforts to identify standard, novel, and truly differentiated solutions and decision-making, including skills in managing, querying, analyzing, visualizing, and extracting meaning from extremely large data sets. This trending program provides students with the statistical, mathematical and computational skills needed to meet the large-scale data science challenges of today's professional world. You will learn all the stack required to work in data science industry including cloud infrastructure and real-time industry projects. This course will be taught in Hindi language.Data Science Masters course is highly curated and uniquely designed according to the latest industry standards. This program instills students the skills essential to knowledge discovery efforts to identify standard, novel, and truly differentiated solutions and decision-making, including skills in managing, querying, analyzing, visualizing, and extracting meaning from extremely large data sets. This trending program provides students with the statistical, mathematical and computational skills needed to meet the large-scale data science challenges of today's professional world. You will learn all the stack required to work in data science industry including cloud infrastructure and real-time industry projects. This course will be taught in Hindi language.\n"
     ]
    }
   ],
   "source": [
    "with open(\"new.txt\",'r') as f :\n",
    "    print(f.read())"
   ]
  },
  {
   "cell_type": "code",
   "execution_count": null,
   "id": "47e4367d-ed95-4c5d-b7c7-db43f0df068a",
   "metadata": {},
   "outputs": [],
   "source": []
  }
 ],
 "metadata": {
  "kernelspec": {
   "display_name": "Python 3 (ipykernel)",
   "language": "python",
   "name": "python3"
  },
  "language_info": {
   "codemirror_mode": {
    "name": "ipython",
    "version": 3
   },
   "file_extension": ".py",
   "mimetype": "text/x-python",
   "name": "python",
   "nbconvert_exporter": "python",
   "pygments_lexer": "ipython3",
   "version": "3.10.8"
  }
 },
 "nbformat": 4,
 "nbformat_minor": 5
}
